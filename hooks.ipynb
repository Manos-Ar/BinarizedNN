{
 "cells": [
  {
   "cell_type": "code",
   "execution_count": 1,
   "id": "83e541b3",
   "metadata": {},
   "outputs": [],
   "source": [
    "import torch\n",
    "from torchvision import datasets, transforms\n",
    "import os\n",
    "from tqdm import tqdm\n",
    "import matplotlib.pyplot as plt\n",
    "\n",
    "# from binarized_modules import  BinarizeLinear,BinarizeConv2d"
   ]
  },
  {
   "cell_type": "code",
   "execution_count": 2,
   "id": "241b3396",
   "metadata": {},
   "outputs": [],
   "source": [
    "import models.cim_fc as cim_fc\n",
    "import models.cim_conv as cim_conv\n",
    "import models.binarized_modules as binarized_modules"
   ]
  },
  {
   "cell_type": "code",
   "execution_count": 3,
   "id": "97e09800",
   "metadata": {},
   "outputs": [],
   "source": [
    "import importlib"
   ]
  },
  {
   "cell_type": "code",
   "execution_count": 4,
   "id": "a13c0b5e",
   "metadata": {},
   "outputs": [
    {
     "data": {
      "text/plain": [
       "<module 'models.cim_fc' from '/shares/bulk/earapidis/dev/BinarizedNN/models/cim_fc.py'>"
      ]
     },
     "execution_count": 4,
     "metadata": {},
     "output_type": "execute_result"
    }
   ],
   "source": [
    "importlib.reload(binarized_modules)\n",
    "importlib.reload(cim_conv)\n",
    "importlib.reload(cim_fc)"
   ]
  },
  {
   "cell_type": "code",
   "execution_count": 5,
   "id": "02cb1ebd",
   "metadata": {},
   "outputs": [],
   "source": [
    "from models.lenet_5 import BinarizedLeNet5_BN as Lenet_5"
   ]
  },
  {
   "cell_type": "code",
   "execution_count": 6,
   "id": "6582f0bd",
   "metadata": {},
   "outputs": [],
   "source": [
    "cuda = True"
   ]
  },
  {
   "cell_type": "code",
   "execution_count": 7,
   "id": "a229e7e8",
   "metadata": {},
   "outputs": [],
   "source": [
    "kwargs = {'num_workers': 1, 'pin_memory': True} if cuda else {}"
   ]
  },
  {
   "cell_type": "code",
   "execution_count": 8,
   "id": "8ae34dcf",
   "metadata": {},
   "outputs": [],
   "source": [
    "test_batch_size=1000"
   ]
  },
  {
   "cell_type": "code",
   "execution_count": 9,
   "id": "755670c8",
   "metadata": {},
   "outputs": [],
   "source": [
    "test_loader = torch.utils.data.DataLoader(\n",
    "    datasets.MNIST('data', train=False, transform=transforms.Compose([\n",
    "                       transforms.ToTensor(),\n",
    "                       transforms.Normalize((0.1307,), (0.3081,))\n",
    "                   ])),\n",
    "    batch_size=test_batch_size, shuffle=True, **kwargs)"
   ]
  },
  {
   "cell_type": "code",
   "execution_count": 10,
   "id": "2fa072f8",
   "metadata": {},
   "outputs": [],
   "source": [
    "# from models.mlp import MLP,MLP_CIM\n",
    "# model_idx = 2\n",
    "# models_path = os.path.abspath(f\"/shares/bulk/earapidis/dev/BinarizedNN/saved_models/mlp/model_{model_idx}\")\n",
    "# model_path = os.path.join(models_path,f\"best.pth\")\n",
    "\n",
    "# model = MLP()\n",
    "# model.load_state_dict(torch.load(model_path))\n",
    "# if cuda:\n",
    "#     torch.cuda.set_device(0)\n",
    "#     model.cuda()"
   ]
  },
  {
   "cell_type": "code",
   "execution_count": 11,
   "id": "0fc42849",
   "metadata": {},
   "outputs": [],
   "source": [
    "from models.lenet_5 import BinarizedLeNet5_BN as Lenet_5\n",
    "from models.lenet_5 import BinarizedLeNet5_BN_CIM as Lenet_5_CIM\n",
    "\n",
    "model_idx = 1\n",
    "models_path = os.path.abspath(f\"/shares/bulk/earapidis/dev/BinarizedNN/saved_models/lenet_5/model_{model_idx}\")\n",
    "model_path = os.path.join(models_path,f\"best.pth\")\n",
    "model = Lenet_5()\n",
    "model.load_state_dict(torch.load(model_path))\n",
    "if cuda:\n",
    "    torch.cuda.set_device(0)\n",
    "    model.cuda()"
   ]
  },
  {
   "cell_type": "code",
   "execution_count": 12,
   "id": "efcfcf38",
   "metadata": {},
   "outputs": [],
   "source": [
    "modules_hooks = ['pool1', 'pool2',\"htanh3\",\"htanh4\"]\n",
    "modules_hooks_remap_names=[\"conv2\",\"fc1\",\"fc2\",\"fc3\"]"
   ]
  },
  {
   "cell_type": "code",
   "execution_count": 13,
   "id": "417ac589",
   "metadata": {},
   "outputs": [
    {
     "name": "stderr",
     "output_type": "stream",
     "text": [
      "10it [00:02,  3.48it/s]\n",
      "10it [00:02,  3.34it/s]"
     ]
    },
    {
     "name": "stdout",
     "output_type": "stream",
     "text": [
      "Collected features:\n",
      "  conv1 : torch.Size([10000, 1, 28, 28])\n",
      "  conv2 : torch.Size([10000, 6, 12, 12])\n",
      "  fc1   : torch.Size([10000, 256])\n",
      "  fc2   : torch.Size([10000, 120])\n",
      "  fc3   : torch.Size([10000, 84])\n"
     ]
    },
    {
     "name": "stderr",
     "output_type": "stream",
     "text": [
      "\n"
     ]
    }
   ],
   "source": [
    "model.eval()  # put in eval mode\n",
    "\n",
    "features = {}\n",
    "with torch.no_grad():\n",
    "    conv1_features = []\n",
    "    for batch_idx, (inputs, targets) in tqdm(enumerate(test_loader)):\n",
    "        conv1_features.extend(inputs)\n",
    "conv1_features = torch.stack(conv1_features)\n",
    "features[\"conv1\"]=conv1_features\n",
    "\n",
    "def make_hook(name):\n",
    "    def hook(module, inp, out):\n",
    "        # detach so you don’t keep the entire computation graph\n",
    "        features.setdefault(name, []).append(out.detach().cpu())\n",
    "    return hook\n",
    "\n",
    "# Register hooks on whichever layers you care about\n",
    "handles = []\n",
    "for idx,hook_name in enumerate(modules_hooks):  # replace with your layer names\n",
    "    module = dict(model.named_modules())[hook_name]\n",
    "    layer_name = modules_hooks_remap_names[idx]\n",
    "    handles.append(module.register_forward_hook(make_hook(layer_name)))\n",
    "\n",
    "# 2) Run through your test_loader\n",
    "with torch.no_grad():\n",
    "    for batch_idx, (inputs, targets) in tqdm(enumerate(test_loader)):\n",
    "        inputs = inputs.cuda()\n",
    "        # forward pass — hooks will fire automatically\n",
    "        outputs = model(inputs)\n",
    "\n",
    "        # (optional) compute loss/accuracy here\n",
    "        # loss = F.cross_entropy(outputs, targets.to(device))\n",
    "        # ...\n",
    "\n",
    "# 3) Process your collected features\n",
    "# e.g. concatenate per‑batch outputs into one big tensor per layer\n",
    "\n",
    "\n",
    "for name, acts in features.items():\n",
    "    if name==\"fc1\":\n",
    "\n",
    "        fc_x = torch.cat(acts, dim=0)\n",
    "        fc_x = fc_x.view(fc_x.size(0), -1)\n",
    "        features[name] = fc_x\n",
    "    elif name!=\"conv1\":\n",
    "        features[name] = torch.cat(acts, dim=0)  # shape (num_samples, ...)\n",
    "\n",
    "print(\"Collected features:\")\n",
    "for name, tensor in features.items():\n",
    "    print(f\"  {name:6s}: {tensor.shape}\")\n",
    "\n",
    "# 4) Clean up your hooks\n",
    "for h in handles:\n",
    "    h.remove()\n"
   ]
  },
  {
   "cell_type": "code",
   "execution_count": 14,
   "id": "8923ec86",
   "metadata": {},
   "outputs": [],
   "source": [
    "Num_rows = 32\n",
    "Num_columns = 32"
   ]
  },
  {
   "cell_type": "code",
   "execution_count": 15,
   "id": "6aec0856",
   "metadata": {},
   "outputs": [],
   "source": [
    "x = features[\"fc1\"]\n",
    "w = model.fc1.weight.data.detach()"
   ]
  },
  {
   "cell_type": "code",
   "execution_count": 16,
   "id": "a7c68b8e",
   "metadata": {},
   "outputs": [
    {
     "data": {
      "text/plain": [
       "torch.Size([10000, 256])"
      ]
     },
     "execution_count": 16,
     "metadata": {},
     "output_type": "execute_result"
    }
   ],
   "source": [
    "x.shape"
   ]
  },
  {
   "cell_type": "code",
   "execution_count": 17,
   "id": "efd20b0c",
   "metadata": {},
   "outputs": [
    {
     "data": {
      "text/plain": [
       "torch.Size([120, 256])"
      ]
     },
     "execution_count": 17,
     "metadata": {},
     "output_type": "execute_result"
    }
   ],
   "source": [
    "w.shape"
   ]
  },
  {
   "cell_type": "code",
   "execution_count": 18,
   "id": "fb226550",
   "metadata": {},
   "outputs": [],
   "source": [
    "def conv_map_to_cim(x,w,Num_rows,Num_columns,mapping,checkboard,padding=0):\n",
    "    x = binarized_modules.binarized(x)\n",
    "    w = binarized_modules.binarized(w)\n",
    "\n",
    "    if mapping:\n",
    "        mapped_x, mapped_w = cim_conv.map_conv2d(x,w,padding=padding)\n",
    "        crossbar_inputs = cim_conv.get_inputs_to_cim(mapped_x,Num_rows)\n",
    "        crossbar_weights = cim_conv.get_weights_to_cim(mapped_w,Num_rows,Num_columns,checkboard)\n",
    "    else:\n",
    "        (pos_x,pos_w), (neg_x,neg_w) = cim_conv.map_conv2d_regular_mapping(x,w,padding=padding)\n",
    "        pos_x = cim_conv.get_inputs_to_cim(pos_x,Num_rows)\n",
    "        neg_x = cim_conv.get_inputs_to_cim(neg_x,Num_rows)\n",
    "        pos_w = cim_conv.get_weights_to_cim(pos_w,Num_rows,Num_columns,checkboard)\n",
    "        neg_w = cim_conv.get_weights_to_cim(neg_w,Num_rows,Num_columns,checkboard)\n",
    "        crossbar_inputs = (pos_x,neg_x)\n",
    "        crossbar_weights = (pos_w,neg_w)\n",
    "    return (crossbar_inputs,crossbar_weights)"
   ]
  },
  {
   "cell_type": "code",
   "execution_count": 19,
   "id": "b250e6b9",
   "metadata": {},
   "outputs": [],
   "source": [
    "def fc_map_to_cim(x,w,Num_rows,Num_columns,mapping,checkboard):\n",
    "    x = binarized_modules.binarized(x)\n",
    "    w = binarized_modules.binarized(w)\n",
    "    if mapping:\n",
    "        mapped_x, mapped_w = cim_fc.map_fc(x,w)\n",
    "        crossbar_inputs = cim_fc.get_inputs_to_cim(mapped_x,Num_rows)\n",
    "        crossbar_weights = cim_fc.get_weights_to_cim(mapped_w,Num_rows,Num_columns,checkboard)\n",
    "    else:\n",
    "        pos_x, neg_x = cim_conv.compliment(x)\n",
    "        pos_x = cim_fc.get_inputs_to_cim(pos_x,Num_rows)\n",
    "        neg_x = cim_fc.get_inputs_to_cim(neg_x,Num_rows)\n",
    "        crossbar_inputs = (pos_x,neg_x)\n",
    "\n",
    "        pos_w, neg_w = cim_conv.compliment(w)\n",
    "        pos_w = cim_fc.get_weights_to_cim(pos_w,Num_rows,Num_columns,checkboard)\n",
    "        neg_w = cim_fc.get_weights_to_cim(neg_w,Num_rows,Num_columns,checkboard)\n",
    "        crossbar_weights = (pos_w,neg_w)\n",
    "    return (crossbar_inputs,crossbar_weights)\n"
   ]
  },
  {
   "cell_type": "code",
   "execution_count": 20,
   "id": "7d96f611",
   "metadata": {},
   "outputs": [],
   "source": [
    "def conv_get_fraction_inputs(x):\n",
    "    _N_, _Hout_, _Wout_, crossbar_y, Num_rows = x.shape\n",
    "    x = x.float().mean(dim=-1)\n",
    "    x = x.flatten()\n",
    "    return x\n",
    "\n",
    "def fc_get_fraction_inputs(x):\n",
    "    _N_, crossbar_y, Num_rows = x.shape\n",
    "    x = x.float().mean(dim=-1)\n",
    "    x = x.flatten()\n",
    "    return x\n",
    "\n",
    "def get_fraction_weights(w):\n",
    "    crossbar_y,crossbar_x, Num_rows, Num_columns = w.shape\n",
    "    w = w.float().mean(dim=(-2,-1))\n",
    "    w = w.flatten()\n",
    "    return w"
   ]
  },
  {
   "cell_type": "code",
   "execution_count": 21,
   "id": "3aa16a5e",
   "metadata": {},
   "outputs": [],
   "source": [
    "# mapping = True\n",
    "# w = w.T\n",
    "# crossbar_inputs, crossbar_weights = fc_map_to_cim(x,w,Num_rows,Num_columns,mapping=mapping,checkboard=mapping,padding=0)\n"
   ]
  },
  {
   "cell_type": "code",
   "execution_count": 22,
   "id": "4a29bb9d",
   "metadata": {},
   "outputs": [],
   "source": [
    "# crossbar_inputs.shape"
   ]
  },
  {
   "cell_type": "code",
   "execution_count": 23,
   "id": "8eb14d55",
   "metadata": {},
   "outputs": [],
   "source": [
    "# crossbar_weights.shape"
   ]
  },
  {
   "cell_type": "code",
   "execution_count": 24,
   "id": "a8373446",
   "metadata": {},
   "outputs": [],
   "source": [
    "def get_fractions(x,w,model_type,Num_rows,Num_columns,mapping,checkboard):\n",
    "    if model_type==\"fc\":\n",
    "        w = w.T\n",
    "        crossbar_inputs, crossbar_weights = fc_map_to_cim(x,w,Num_rows,Num_columns,mapping=mapping,checkboard=checkboard)\n",
    "    elif model_type==\"conv\":\n",
    "        crossbar_inputs, crossbar_weights = conv_map_to_cim(x,w,Num_rows,Num_columns,mapping=mapping,checkboard=checkboard,padding=0)\n",
    "    else:\n",
    "        raise Exception(f\"Unsupported model type {model_type}\")\n",
    "\n",
    "    if mapping:\n",
    "        if model_type==\"fc\":\n",
    "            input_fractions = fc_get_fraction_inputs(crossbar_inputs)\n",
    "        else:\n",
    "            input_fractions = conv_get_fraction_inputs(crossbar_inputs)\n",
    "        weight_fractions = get_fraction_weights(crossbar_weights)\n",
    "    else:\n",
    "        (pos_x,neg_x) = crossbar_inputs\n",
    "        (pos_w,neg_w) = crossbar_weights\n",
    "        if model_type==\"fc\":\n",
    "            pos_x = fc_get_fraction_inputs(pos_x)\n",
    "            neg_x = fc_get_fraction_inputs(neg_x)\n",
    "        else:\n",
    "            pos_x = conv_get_fraction_inputs(pos_x)\n",
    "            neg_x = conv_get_fraction_inputs(neg_x)\n",
    "\n",
    "        pos_w = get_fraction_weights(pos_w)\n",
    "        neg_w = get_fraction_weights(neg_w)\n",
    "\n",
    "        input_fractions = torch.cat((pos_x,neg_x))\n",
    "        weight_fractions = torch.cat((pos_w,neg_w))\n",
    "    return input_fractions,weight_fractions\n"
   ]
  },
  {
   "cell_type": "code",
   "execution_count": 25,
   "id": "895b27cb",
   "metadata": {},
   "outputs": [
    {
     "data": {
      "text/plain": [
       "dict_keys(['conv1', 'conv2', 'fc1', 'fc2', 'fc3'])"
      ]
     },
     "execution_count": 25,
     "metadata": {},
     "output_type": "execute_result"
    }
   ],
   "source": [
    "features.keys()"
   ]
  },
  {
   "cell_type": "code",
   "execution_count": 26,
   "id": "92f3554f",
   "metadata": {},
   "outputs": [],
   "source": [
    "mapping = False"
   ]
  },
  {
   "cell_type": "code",
   "execution_count": 27,
   "id": "0c592f6d",
   "metadata": {},
   "outputs": [],
   "source": [
    "model_type = \"fc\"\n",
    "input_fractions,weight_fractions = get_fractions(x,w,model_type,Num_rows,Num_columns,mapping=mapping,checkboard=mapping)"
   ]
  },
  {
   "cell_type": "code",
   "execution_count": 28,
   "id": "53c7ff6c",
   "metadata": {},
   "outputs": [
    {
     "data": {
      "text/plain": [
       "(tensor([0.4297, 0.4336, 0.4346, 0.4385, 0.4395, 0.4414, 0.4443, 0.4473, 0.4482,\n",
       "         0.4492, 0.4512, 0.4521, 0.4541, 0.4551, 0.4580, 0.4590, 0.4609, 0.4619,\n",
       "         0.4639, 0.4658, 0.4668, 0.4678, 0.4697, 0.4707, 0.4717, 0.4736, 0.4756,\n",
       "         0.4766, 0.4785, 0.4795, 0.4824, 0.4834, 0.4854, 0.4863, 0.4883, 0.4893,\n",
       "         0.4902, 0.4932, 0.4961, 0.4980, 0.4990, 0.5029, 0.5039, 0.5078]),\n",
       " tensor([1, 1, 1, 1, 2, 1, 1, 2, 1, 2, 1, 2, 1, 1, 4, 3, 1, 1, 2, 1, 1, 1, 1, 1,\n",
       "         1, 2, 1, 1, 3, 4, 1, 1, 2, 1, 2, 1, 2, 1, 1, 2, 1, 1, 1, 1]))"
      ]
     },
     "execution_count": 28,
     "metadata": {},
     "output_type": "execute_result"
    }
   ],
   "source": [
    "torch.unique(weight_fractions,return_counts=True)"
   ]
  },
  {
   "cell_type": "code",
   "execution_count": 29,
   "id": "2355ffe1",
   "metadata": {},
   "outputs": [
    {
     "data": {
      "text/plain": [
       "(tensor([0.0625, 0.0938, 0.1250, 0.1562, 0.1875, 0.2188, 0.2500, 0.2812, 0.3125,\n",
       "         0.3438, 0.3750, 0.4062, 0.4375, 0.4688, 0.5000, 0.5312, 0.5625, 0.5938,\n",
       "         0.6250, 0.6562, 0.6875, 0.7188, 0.7500, 0.7812, 0.8125, 0.8438, 0.8750,\n",
       "         0.9062, 0.9375]),\n",
       " tensor([    2,     2,    18,   100,   433,   939,  1742,  2873,  4897,  7849,\n",
       "         10791, 13170, 14729, 14987, 14936, 14987, 14729, 13170, 10791,  7849,\n",
       "          4897,  2873,  1742,   939,   433,   100,    18,     2,     2]))"
      ]
     },
     "execution_count": 29,
     "metadata": {},
     "output_type": "execute_result"
    }
   ],
   "source": [
    "torch.unique(input_fractions,return_counts=True)\n"
   ]
  },
  {
   "cell_type": "code",
   "execution_count": 30,
   "id": "f9e260b9",
   "metadata": {},
   "outputs": [
    {
     "data": {
      "text/plain": [
       "(array([2.0000e+00, 2.0000e+00, 0.0000e+00, 1.8000e+01, 0.0000e+00,\n",
       "        1.0000e+02, 0.0000e+00, 4.3300e+02, 9.3900e+02, 0.0000e+00,\n",
       "        1.7420e+03, 0.0000e+00, 2.8730e+03, 0.0000e+00, 4.8970e+03,\n",
       "        0.0000e+00, 7.8490e+03, 1.0791e+04, 0.0000e+00, 1.3170e+04,\n",
       "        0.0000e+00, 1.4729e+04, 0.0000e+00, 1.4987e+04, 0.0000e+00,\n",
       "        1.4936e+04, 1.4987e+04, 0.0000e+00, 1.4729e+04, 0.0000e+00,\n",
       "        1.3170e+04, 0.0000e+00, 1.0791e+04, 7.8490e+03, 0.0000e+00,\n",
       "        4.8970e+03, 0.0000e+00, 2.8730e+03, 0.0000e+00, 1.7420e+03,\n",
       "        0.0000e+00, 9.3900e+02, 4.3300e+02, 0.0000e+00, 1.0000e+02,\n",
       "        0.0000e+00, 1.8000e+01, 0.0000e+00, 2.0000e+00, 2.0000e+00]),\n",
       " array([0.0625    , 0.08      , 0.0975    , 0.115     , 0.13249999,\n",
       "        0.15000001, 0.1675    , 0.185     , 0.2025    , 0.22      ,\n",
       "        0.2375    , 0.255     , 0.27250001, 0.28999999, 0.3075    ,\n",
       "        0.32499999, 0.3425    , 0.36000001, 0.3775    , 0.39500001,\n",
       "        0.41249999, 0.43000001, 0.44749999, 0.465     , 0.48249999,\n",
       "        0.5       , 0.51749998, 0.53500003, 0.55250001, 0.56999999,\n",
       "        0.58749998, 0.60500002, 0.6225    , 0.63999999, 0.65750003,\n",
       "        0.67500001, 0.6925    , 0.70999998, 0.72750002, 0.745     ,\n",
       "        0.76249999, 0.77999997, 0.79750001, 0.815     , 0.83249998,\n",
       "        0.85000002, 0.86750001, 0.88499999, 0.90249997, 0.92000002,\n",
       "        0.9375    ]),\n",
       " <BarContainer object of 50 artists>)"
      ]
     },
     "execution_count": 30,
     "metadata": {},
     "output_type": "execute_result"
    },
    {
     "data": {
      "image/png": "[encoded data removed]",
      "text/plain": [
       "<Figure size 432x288 with 1 Axes>"
      ]
     },
     "metadata": {
      "needs_background": "light"
     },
     "output_type": "display_data"
    }
   ],
   "source": [
    "plt.hist(input_fractions,bins=50)"
   ]
  },
  {
   "cell_type": "code",
   "execution_count": 31,
   "id": "3724aecb",
   "metadata": {},
   "outputs": [],
   "source": [
    "from scipy import stats\n",
    "kde = stats.gaussian_kde(input_fractions)"
   ]
  },
  {
   "cell_type": "code",
   "execution_count": 32,
   "id": "99ba2e3f",
   "metadata": {},
   "outputs": [],
   "source": [
    "import random\n",
    "num_samples = 10000\n",
    "random_indices = random.sample(range(input_fractions.numel()), num_samples)\n",
    "sampled_fractions = input_fractions[random_indices]\n",
    "sampled_kde = kde.resample(num_samples)\n",
    "sampled_kde = sampled_kde.squeeze()\n"
   ]
  },
  {
   "cell_type": "code",
   "execution_count": 33,
   "id": "7ec79e17",
   "metadata": {},
   "outputs": [
    {
     "data": {
      "text/plain": [
       "<matplotlib.legend.Legend at 0x7f0ccd13a1f0>"
      ]
     },
     "execution_count": 33,
     "metadata": {},
     "output_type": "execute_result"
    },
    {
     "data": {
      "image/png": "[encoded data removed]",
      "text/plain": [
       "<Figure size 432x288 with 1 Axes>"
      ]
     },
     "metadata": {
      "needs_background": "light"
     },
     "output_type": "display_data"
    }
   ],
   "source": [
    "bins = 10\n",
    "plt.hist(sampled_kde,label=\"kde\",alpha=0.5,bins=bins)\n",
    "plt.hist(sampled_fractions,label=\"original\",alpha=0.5,bins=bins)\n",
    "plt.legend()"
   ]
  },
  {
   "cell_type": "code",
   "execution_count": 34,
   "id": "1775572c",
   "metadata": {},
   "outputs": [
    {
     "data": {
      "text/plain": [
       "dict_keys(['conv1', 'conv2', 'fc1', 'fc2', 'fc3'])"
      ]
     },
     "execution_count": 34,
     "metadata": {},
     "output_type": "execute_result"
    }
   ],
   "source": [
    "features.keys()"
   ]
  },
  {
   "cell_type": "code",
   "execution_count": 35,
   "id": "b91de386",
   "metadata": {},
   "outputs": [
    {
     "name": "stderr",
     "output_type": "stream",
     "text": [
      "100%|██████████| 5/5 [00:45<00:00,  9.12s/it]\n"
     ]
    }
   ],
   "source": [
    "mapping = False\n",
    "_x_fractions_ = []\n",
    "_w_fractions_ = []\n",
    "for module_name, x in tqdm(features.items()):\n",
    "\n",
    "    module = dict(model.named_modules())[module_name]\n",
    "    w = module.weight.data.detach()\n",
    "    if \"fc\" in module_name:\n",
    "        model_type = \"fc\"\n",
    "    elif \"conv\" in module_name:\n",
    "        model_type = \"conv\"\n",
    "    input_fractions,weight_fractions = get_fractions(x,w,model_type,Num_rows,Num_columns,mapping=mapping,checkboard=mapping)\n",
    "    _x_fractions_.extend(input_fractions)\n",
    "    _w_fractions_.extend(weight_fractions)"
   ]
  },
  {
   "cell_type": "code",
   "execution_count": 45,
   "id": "ae072d8f",
   "metadata": {},
   "outputs": [
    {
     "name": "stdout",
     "output_type": "stream",
     "text": [
      "torch.Size([18220000])\n",
      "torch.Size([106])\n"
     ]
    }
   ],
   "source": [
    "x_fractions = torch.tensor(_x_fractions_)\n",
    "w_fractions = torch.tensor(_w_fractions_)\n",
    "print(x_fractions.shape)\n",
    "print(w_fractions.shape)"
   ]
  },
  {
   "cell_type": "code",
   "execution_count": 76,
   "id": "e2edfac7",
   "metadata": {},
   "outputs": [
    {
     "data": {
      "text/plain": [
       "<matplotlib.legend.Legend at 0x7f0bccca5640>"
      ]
     },
     "execution_count": 76,
     "metadata": {},
     "output_type": "execute_result"
    },
    {
     "data": {
      "image/png": "[encoded data removed]",
      "text/plain": [
       "<Figure size 432x288 with 1 Axes>"
      ]
     },
     "metadata": {
      "needs_background": "light"
     },
     "output_type": "display_data"
    }
   ],
   "source": [
    "x_kde = stats.gaussian_kde(x_fractions)\n",
    "\n",
    "num_samples = 50000\n",
    "random_indices = random.sample(range(x_fractions.numel()), num_samples)\n",
    "sampled_fractions = x_fractions[random_indices]\n",
    "sampled_kde = x_kde.resample(num_samples)\n",
    "sampled_kde = sampled_kde.squeeze()\n",
    "bins = 10\n",
    "plt.hist(sampled_kde,label=\"kde\",alpha=0.5,bins=bins)\n",
    "plt.hist(sampled_fractions,label=\"original\",alpha=0.5,bins=bins)\n",
    "plt.legend()"
   ]
  },
  {
   "cell_type": "code",
   "execution_count": 77,
   "id": "fd167a12",
   "metadata": {},
   "outputs": [
    {
     "data": {
      "text/plain": [
       "<matplotlib.legend.Legend at 0x7f0bccc918b0>"
      ]
     },
     "execution_count": 77,
     "metadata": {},
     "output_type": "execute_result"
    },
    {
     "data": {
      "image/png": "[encoded data removed]",
      "text/plain": [
       "<Figure size 432x288 with 1 Axes>"
      ]
     },
     "metadata": {
      "needs_background": "light"
     },
     "output_type": "display_data"
    }
   ],
   "source": [
    "w_kde = stats.gaussian_kde(w_fractions)\n",
    "\n",
    "num_samples = 100\n",
    "random_indices = random.sample(range(w_fractions.numel()), num_samples)\n",
    "sampled_fractions = w_fractions[random_indices]\n",
    "sampled_kde = w_kde.resample(num_samples)\n",
    "sampled_kde = sampled_kde.squeeze()\n",
    "bins = 10\n",
    "plt.hist(sampled_kde,label=\"kde\",alpha=0.5,bins=bins)\n",
    "plt.hist(sampled_fractions,label=\"original\",alpha=0.5,bins=bins)\n",
    "plt.legend()"
   ]
  },
  {
   "cell_type": "code",
   "execution_count": 80,
   "id": "46014d89",
   "metadata": {},
   "outputs": [],
   "source": [
    "import pickle\n",
    "\n",
    "model_idx = 1\n",
    "models_dir = os.path.abspath(f\"/shares/bulk/earapidis/dev/BinarizedNN/saved_models/lenet_5/model_{model_idx}\")\n",
    "\n",
    "x_kde_path = os.path.join(models_dir,\"x_kde.pkl\")\n",
    "w_kde_path = os.path.join(models_dir,\"w_kde.pkl\")\n",
    "\n",
    "with open(x_kde_path,\"wb\") as f:\n",
    "    pickle.dump(x_kde,f)\n",
    "\n",
    "with open(w_kde_path,\"wb\") as f:\n",
    "    pickle.dump(w_kde,f)\n"
   ]
  }
 ],
 "metadata": {
  "kernelspec": {
   "display_name": "env (3.9.21)",
   "language": "python",
   "name": "python3"
  },
  "language_info": {
   "codemirror_mode": {
    "name": "ipython",
    "version": 3
   },
   "file_extension": ".py",
   "mimetype": "text/x-python",
   "name": "python",
   "nbconvert_exporter": "python",
   "pygments_lexer": "ipython3",
   "version": "3.9.21"
  }
 },
 "nbformat": 4,
 "nbformat_minor": 5
}
