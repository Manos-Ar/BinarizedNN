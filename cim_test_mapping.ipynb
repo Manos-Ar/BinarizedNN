{
 "cells": [
  {
   "cell_type": "code",
   "execution_count": 7,
   "id": "dc865033",
   "metadata": {},
   "outputs": [],
   "source": [
    "\n",
    "from __future__ import print_function\n",
    "import argparse\n",
    "import torch\n",
    "import torch.nn as nn\n",
    "import torch.nn.functional as F\n",
    "import torch.optim as optim\n",
    "from torchvision import datasets, transforms\n",
    "from torch.autograd import Variable\n",
    "import numpy as np\n",
    "import os\n",
    "import pandas as pd\n",
    "from time import time\n",
    "import matplotlib.pyplot as plt\n",
    "from collections import defaultdict\n",
    "from models.binarized_modules import binarized\n",
    "from concurrent.futures import ProcessPoolExecutor\n",
    "\n",
    "# from binarized_modules import  BinarizeLinear,BinarizeConv2d"
   ]
  },
  {
   "cell_type": "code",
   "execution_count": 8,
   "id": "86bde069",
   "metadata": {},
   "outputs": [],
   "source": [
    "import sys\n",
    "sys.path.append('/shares/bulk/earapidis/dev/Fast-Crossbar-Sim/python')\n",
    "# sys.path.append('/home/earapidis/Fast-Crossbar-Sim/python')\n",
    "from crossbar import VectorSim, ParallelSim, _task\n",
    "from tqdm import tqdm"
   ]
  },
  {
   "cell_type": "code",
   "execution_count": 9,
   "id": "8b3bde3d",
   "metadata": {},
   "outputs": [
    {
     "data": {
      "text/plain": [
       "'/shares/bulk/earapidis/dev/BinarizedNN'"
      ]
     },
     "execution_count": 9,
     "metadata": {},
     "output_type": "execute_result"
    }
   ],
   "source": [
    "os.getcwd()"
   ]
  },
  {
   "cell_type": "code",
   "execution_count": 10,
   "id": "236bd51d",
   "metadata": {},
   "outputs": [],
   "source": [
    "cuda = False"
   ]
  },
  {
   "cell_type": "code",
   "execution_count": 11,
   "id": "62f8a92a",
   "metadata": {},
   "outputs": [],
   "source": [
    "kwargs = {'num_workers': 1, 'pin_memory': True} if cuda else {}"
   ]
  },
  {
   "cell_type": "code",
   "execution_count": 12,
   "id": "51fbfb3f",
   "metadata": {},
   "outputs": [],
   "source": [
    "test_batch_size=1"
   ]
  },
  {
   "cell_type": "code",
   "execution_count": 13,
   "id": "a26c3bf7",
   "metadata": {},
   "outputs": [],
   "source": [
    "test_loader = torch.utils.data.DataLoader(\n",
    "    datasets.MNIST('data', train=False, transform=transforms.Compose([\n",
    "                       transforms.ToTensor(),\n",
    "                       transforms.Normalize((0.1307,), (0.3081,))\n",
    "                   ])),\n",
    "    batch_size=test_batch_size, shuffle=False, **kwargs)"
   ]
  },
  {
   "cell_type": "code",
   "execution_count": 14,
   "id": "2d875105",
   "metadata": {},
   "outputs": [],
   "source": [
    "# from mnist_bnn import Net\n",
    "from models.lenet_5 import BinarizedLeNet5_BN as Net\n",
    "\n",
    "model = Net()\n",
    "if cuda:\n",
    "    torch.cuda.set_device(0)\n",
    "    model.cuda()\n"
   ]
  },
  {
   "cell_type": "code",
   "execution_count": 15,
   "id": "3117c990",
   "metadata": {},
   "outputs": [],
   "source": [
    "# model_path = os.path.join(models_path,f\"epoch_7.pth\")\n",
    "model_idx = 3\n",
    "models_path = os.path.abspath(f\"/shares/bulk/earapidis/dev/BinarizedNN/saved_models/lenet_5/model_{model_idx}\")\n",
    "# models_path = os.path.abspath(f\"/home/earapidis/BinarizedNN/saved_models/lenet_5/model_{model_idx}\")\n",
    "model_path = os.path.join(models_path,f\"epoch_15.pth\")\n",
    "# model_path = os.path.join(models_path,f\"best.pth\")\n",
    "model = Net()\n",
    "model.load_state_dict(torch.load(model_path))\n",
    "if cuda:\n",
    "    torch.cuda.set_device(0)\n",
    "    model.cuda()"
   ]
  },
  {
   "cell_type": "code",
   "execution_count": 16,
   "id": "43fba5d1",
   "metadata": {},
   "outputs": [
    {
     "data": {
      "text/plain": [
       "BinarizedLeNet5_BN(\n",
       "  (conv1): BinarizeConv2d(1, 6, kernel_size=(5, 5), stride=(1, 1))\n",
       "  (bn1): BatchNorm2d(6, eps=1e-05, momentum=0.1, affine=True, track_running_stats=True)\n",
       "  (htanh1): Hardtanh(min_val=-1.0, max_val=1.0)\n",
       "  (pool1): AvgPool2d(kernel_size=2, stride=2, padding=0)\n",
       "  (conv2): BinarizeConv2d(6, 16, kernel_size=(5, 5), stride=(1, 1))\n",
       "  (bn2): BatchNorm2d(16, eps=1e-05, momentum=0.1, affine=True, track_running_stats=True)\n",
       "  (htanh2): Hardtanh(min_val=-1.0, max_val=1.0)\n",
       "  (pool2): AvgPool2d(kernel_size=2, stride=2, padding=0)\n",
       "  (fc1): BinarizeLinear(in_features=256, out_features=120, bias=True)\n",
       "  (bn_fc1): BatchNorm1d(120, eps=1e-05, momentum=0.1, affine=True, track_running_stats=True)\n",
       "  (htanh3): Hardtanh(min_val=-1.0, max_val=1.0)\n",
       "  (fc2): BinarizeLinear(in_features=120, out_features=84, bias=True)\n",
       "  (bn_fc2): BatchNorm1d(84, eps=1e-05, momentum=0.1, affine=True, track_running_stats=True)\n",
       "  (htanh4): Hardtanh(min_val=-1.0, max_val=1.0)\n",
       "  (fc3): BinarizeLinear(in_features=84, out_features=10, bias=True)\n",
       "  (bn_fc3): BatchNorm1d(10, eps=1e-05, momentum=0.1, affine=True, track_running_stats=True)\n",
       ")"
      ]
     },
     "execution_count": 16,
     "metadata": {},
     "output_type": "execute_result"
    }
   ],
   "source": [
    "model.eval()"
   ]
  },
  {
   "cell_type": "code",
   "execution_count": 17,
   "id": "b5e1ca00",
   "metadata": {},
   "outputs": [
    {
     "name": "stdout",
     "output_type": "stream",
     "text": [
      "image shape: torch.Size([1, 1, 28, 28])\n"
     ]
    }
   ],
   "source": [
    "images, labels = next(iter(test_loader))\n",
    "print(f\"image shape: {images.shape}\")"
   ]
  },
  {
   "cell_type": "code",
   "execution_count": 18,
   "id": "fdc484eb",
   "metadata": {},
   "outputs": [],
   "source": [
    "\n",
    "x=model.conv1(images)\n",
    "x=model.bn1(x)\n",
    "x=model.htanh1(x)\n",
    "x=model.pool1(x)\n",
    "x = x.detach()"
   ]
  },
  {
   "cell_type": "code",
   "execution_count": 19,
   "id": "0ed57961",
   "metadata": {},
   "outputs": [
    {
     "data": {
      "text/plain": [
       "torch.Size([1, 1, 28, 28])"
      ]
     },
     "execution_count": 19,
     "metadata": {},
     "output_type": "execute_result"
    }
   ],
   "source": [
    "inputs = images\n",
    "# inputs = x\n",
    "inputs = binarized(inputs)\n",
    "inputs.shape"
   ]
  },
  {
   "cell_type": "code",
   "execution_count": 20,
   "id": "e6eb9a0e",
   "metadata": {},
   "outputs": [
    {
     "data": {
      "text/plain": [
       "torch.Size([6, 1, 5, 5])"
      ]
     },
     "execution_count": 20,
     "metadata": {},
     "output_type": "execute_result"
    }
   ],
   "source": [
    "filters = model.conv1.weight.data\n",
    "filters_b = binarized(filters)\n",
    "filters_b.shape"
   ]
  },
  {
   "cell_type": "code",
   "execution_count": 21,
   "id": "38c44fa2",
   "metadata": {},
   "outputs": [],
   "source": [
    "# COUT = 50\n",
    "# CIN = 6\n",
    "# Kh = 5\n",
    "# Kw = 5\n",
    "# filters = torch.randn(COUT,CIN,Kh,Kw)\n",
    "# filters = binarized(filters)\n",
    "\n",
    "COUT, CIN, Kh, Kw = filters.shape\n",
    "N, CIN, Hi,Wi = inputs.shape\n",
    "# Hi = 24\n",
    "# Wi = 24\n",
    "# N = 1\n",
    "padding = 0 \n",
    "Num_rows = 32\n",
    "Num_Columns = 32                    \n",
    "Hout = Hi + 2*padding - Kh + 1\n",
    "Wout = Wi + 2*padding - Kw + 1\n",
    "\n",
    "\n",
    "# filters = torch.randn(COUT, CIN, Kh, Kw)\n"
   ]
  },
  {
   "cell_type": "code",
   "execution_count": 22,
   "id": "19407a80",
   "metadata": {},
   "outputs": [
    {
     "name": "stdout",
     "output_type": "stream",
     "text": [
      "tensor([[1, 1, 1, 1, 0, 1, 0, 1],\n",
      "        [1, 1, 1, 0, 1, 0, 1, 0],\n",
      "        [1, 1, 1, 1, 0, 1, 0, 1],\n",
      "        [1, 1, 1, 0, 1, 0, 1, 0],\n",
      "        [1, 1, 1, 1, 0, 1, 0, 1],\n",
      "        [1, 1, 1, 0, 1, 0, 1, 0]], dtype=torch.int32)\n"
     ]
    }
   ],
   "source": [
    "def checkerboard_last_cols(arr: torch.Tensor, C: int) -> None:\n",
    "    \"\"\"\n",
    "    Overwrite the last C columns of `arr` in-place with a checkerboard pattern of 0s and 1s.\n",
    "\n",
    "    Parameters\n",
    "    ----------\n",
    "    arr : torch.Tensor\n",
    "        Input 2D tensor of shape (n, m).\n",
    "    C : int\n",
    "        Number of columns at the right edge to turn into a checkerboard.\n",
    "    \"\"\"\n",
    "    n, m = arr.shape\n",
    "    if C > m:\n",
    "        raise ValueError(\"C cannot be larger than the number of columns m.\")\n",
    "    \n",
    "    # Create row and column indices\n",
    "    rows = torch.arange(n).view(-1, 1)                # shape: (n, 1)\n",
    "    cols = torch.arange(m - C, m).view(1, -1)         # shape: (1, C)\n",
    "\n",
    "    # Generate checkerboard pattern\n",
    "    pattern = (rows + cols) % 2\n",
    "\n",
    "    # Apply the pattern to the last C columns in-place\n",
    "    arr[:, -C:] = pattern\n",
    "\n",
    "# Example\n",
    "A = torch.ones((6, 8), dtype=torch.int)\n",
    "checkerboard_last_cols(A, C=5)\n",
    "print(A)\n"
   ]
  },
  {
   "cell_type": "code",
   "execution_count": 23,
   "id": "9b88f4b2",
   "metadata": {},
   "outputs": [],
   "source": [
    "def compliment(x):\n",
    "    x = x.clone()\n",
    "    neg = -1*x\n",
    "    pos = x\n",
    "\n",
    "    pos[pos==-1] = 0\n",
    "    neg[neg==-1] = 0\n",
    "    return pos, neg"
   ]
  },
  {
   "cell_type": "code",
   "execution_count": 24,
   "id": "4db5e20e",
   "metadata": {},
   "outputs": [
    {
     "name": "stdout",
     "output_type": "stream",
     "text": [
      "torch.Size([6, 1, 5, 5])\n",
      "torch.Size([1, 1, 28, 28])\n"
     ]
    }
   ],
   "source": [
    "pos_inputs, neg_inputs = compliment(inputs)\n",
    "pos_filters, neg_filters = compliment(filters_b)\n",
    "\n",
    "print(pos_filters.shape)\n",
    "print(pos_inputs.shape)"
   ]
  },
  {
   "cell_type": "code",
   "execution_count": 25,
   "id": "4357b472",
   "metadata": {},
   "outputs": [
    {
     "data": {
      "text/plain": [
       "torch.Size([6, 1, 50])"
      ]
     },
     "execution_count": 25,
     "metadata": {},
     "output_type": "execute_result"
    }
   ],
   "source": [
    "new_weights = torch.empty((COUT,CIN,2*(Kh*Kw)))\n",
    "\n",
    "pos = pos_filters.reshape(pos_filters.shape[0],pos_filters.shape[1],-1)\n",
    "neg = neg_filters.reshape(neg_filters.shape[0],neg_filters.shape[1],-1)\n",
    "kernel_size = Kh*Kw\n",
    "\n",
    "for i in range(kernel_size):\n",
    "\n",
    "    new_weights[:,:,2*i] = pos[:,:,i]\n",
    "    new_weights[:,:,2*i+1] = neg[:,:,i]\n",
    "new_weights.shape"
   ]
  },
  {
   "cell_type": "code",
   "execution_count": 26,
   "id": "36c892f8",
   "metadata": {},
   "outputs": [
    {
     "name": "stdout",
     "output_type": "stream",
     "text": [
      "24 24\n"
     ]
    }
   ],
   "source": [
    "print(Hout,Wout)"
   ]
  },
  {
   "cell_type": "code",
   "execution_count": 27,
   "id": "24e5748a",
   "metadata": {},
   "outputs": [],
   "source": [
    "new_inputs = torch.empty((N,Hout,Wout,CIN,2*kernel_size))\n",
    "for ii in range(Hout):\n",
    "    for jj in range(Wout):\n",
    "        _pos_ = pos_inputs[:,:,ii:ii+Kh,jj:jj+Kw]\n",
    "        _neg_ = neg_inputs[:,:,ii:ii+Kh,jj:jj+Kw]\n",
    "        # print(_pos_.shape)\n",
    "        _pos_ = _pos_.reshape(_pos_.shape[0],_pos_.shape[1],-1)\n",
    "        _neg_ = _neg_.reshape(_neg_.shape[0],_neg_.shape[1],-1)\n",
    "        one_pixel = torch.empty(_pos_.shape[0],_pos_.shape[1],2*kernel_size)\n",
    "        for z in range(kernel_size):\n",
    "            one_pixel[:,:,2*z]=_pos_[:,:,z]\n",
    "            one_pixel[:,:,2*z+1]=_neg_[:,:,z]\n",
    "        new_inputs[:,ii,jj,:,:] = one_pixel"
   ]
  },
  {
   "cell_type": "code",
   "execution_count": 28,
   "id": "13463043",
   "metadata": {},
   "outputs": [
    {
     "data": {
      "text/plain": [
       "torch.Size([1, 24, 24, 1, 50])"
      ]
     },
     "execution_count": 28,
     "metadata": {},
     "output_type": "execute_result"
    }
   ],
   "source": [
    "new_inputs.shape"
   ]
  },
  {
   "cell_type": "code",
   "execution_count": 29,
   "id": "f30a235d",
   "metadata": {},
   "outputs": [],
   "source": [
    "def get_output(I,Kh, Kw, CIN):\n",
    "    out = 2*I - Kh*Kw*CIN\n",
    "    return out"
   ]
  },
  {
   "cell_type": "code",
   "execution_count": 30,
   "id": "2468f870",
   "metadata": {},
   "outputs": [],
   "source": [
    "ref = nn.functional.conv2d(inputs, filters_b, padding=0)\n",
    "# ref"
   ]
  },
  {
   "cell_type": "code",
   "execution_count": 31,
   "id": "b517ce08",
   "metadata": {},
   "outputs": [
    {
     "data": {
      "text/plain": [
       "True"
      ]
     },
     "execution_count": 31,
     "metadata": {},
     "output_type": "execute_result"
    }
   ],
   "source": [
    "out_2d = torch.empty((N,COUT,Hout,Wout))\n",
    "\n",
    "for ii in range(Hout):\n",
    "    for jj in range(Wout):\n",
    "        one_pixel = new_inputs[:,ii,jj,:,:]\n",
    "        # print(one_pixel.shape)\n",
    "        out_1d = F.conv1d(one_pixel,new_weights)\n",
    "        out_1d = out_1d.squeeze(-1)\n",
    "        # print(out_1d.shape)\n",
    "        out_2d[:,:,ii,jj] = out_1d\n",
    "out_2d = get_output(out_2d,Kh,Kw,CIN)\n",
    "torch.equal(out_2d,ref)"
   ]
  },
  {
   "cell_type": "code",
   "execution_count": 32,
   "id": "829e0764",
   "metadata": {},
   "outputs": [
    {
     "data": {
      "text/plain": [
       "torch.Size([6, 1, 50])"
      ]
     },
     "execution_count": 32,
     "metadata": {},
     "output_type": "execute_result"
    }
   ],
   "source": [
    "new_weights.shape"
   ]
  },
  {
   "cell_type": "code",
   "execution_count": 33,
   "id": "2b6f4211",
   "metadata": {},
   "outputs": [
    {
     "data": {
      "text/plain": [
       "<function math.ceil(x, /)>"
      ]
     },
     "execution_count": 33,
     "metadata": {},
     "output_type": "execute_result"
    }
   ],
   "source": [
    "import math\n",
    "math.ceil"
   ]
  },
  {
   "cell_type": "code",
   "execution_count": 34,
   "id": "7ee6537c",
   "metadata": {},
   "outputs": [],
   "source": [
    "def torch_conv_2d(crossbar_inputs,crossbar_weights,_COUT_,Total_dim):\n",
    "    _N_,_HOUT_,_WOUT_,crossbar_y,Num_rows = crossbar_inputs.shape\n",
    "    _,crossbar_x,_,Num_Columns = crossbar_weights.shape\n",
    "    output_conv_2d = torch.zeros(_N_,_COUT_,_HOUT_,_WOUT_)\n",
    "\n",
    "    columns_per_crossbar = math.floor(_COUT_/crossbar_x)\n",
    "\n",
    "    for ii in range(_HOUT_):\n",
    "        for jj in range(_WOUT_):\n",
    "            mac_out_columns = torch.zeros((_N_,_COUT_))\n",
    "            for cy in range(crossbar_y):\n",
    "                for cx in range(crossbar_x):\n",
    "                    tmp_x=crossbar_inputs[:,ii,jj,cy,:]\n",
    "                    tmp_w=crossbar_weights[cy,cx,:,:]\n",
    "                    checkerboard_last_cols(tmp_w,Num_Columns-columns_per_crossbar)\n",
    "                    # tmp_w=crossbar_weights\n",
    "                    # print(tmp_x.shape)\n",
    "                    # print(tmp_w.shape)\n",
    "                    # _out_ = torch.matmul(tmp_w,tmp_x)\n",
    "                    _out_ = torch.matmul(tmp_x,tmp_w)\n",
    "\n",
    "                    column_start_idx = cx*columns_per_crossbar\n",
    "                    if cx==crossbar_x-1:\n",
    "                        column_end_idx=Total_dim\n",
    "                    else:\n",
    "                        column_end_idx = (cx+1)*columns_per_crossbar\n",
    "                    \n",
    "                    mac_out_columns[:,column_start_idx:column_end_idx] += _out_[:,:columns_per_crossbar]\n",
    "            output_conv_2d[:,:,ii,jj]=mac_out_columns\n",
    "    return output_conv_2d\n"
   ]
  },
  {
   "cell_type": "code",
   "execution_count": 35,
   "id": "144a5acf",
   "metadata": {},
   "outputs": [],
   "source": [
    "# def cim_conv_2d(crossbar_inputs,crossbar_weights,_COUT_,Total_dim):\n",
    "#     _N_,_HOUT_,_WOUT_,crossbar_y,Num_rows = crossbar_inputs.shape\n",
    "#     _,crossbar_x,_,Num_Columns = crossbar_weights.shape\n",
    "#     output_conv_2d = torch.zeros(_N_,_COUT_,_HOUT_,_WOUT_)\n",
    "\n",
    "#     columns_per_crossbar = math.floor(_COUT_/crossbar_x)\n",
    "\n",
    "#     for ii in tqdm(range(_HOUT_)):\n",
    "#         for jj in tqdm(range(_WOUT_)):\n",
    "#             mac_out_columns = torch.zeros((_N_,_COUT_))\n",
    "#             for cy in range(crossbar_y):\n",
    "#                 for cx in range(crossbar_x):\n",
    "#                     tmp_x=crossbar_inputs[:,ii,jj,cy,:]\n",
    "#                     tmp_w=crossbar_weights[cy,cx,:,:]\n",
    "#                     checkerboard_last_cols(tmp_w,Num_Columns-columns_per_crossbar)\n",
    "#                     # tmp_w=crossbar_weights\n",
    "#                     # print(tmp_x.shape)\n",
    "#                     # print(tmp_w.shape)\n",
    "#                     # _out_ = torch.matmul(tmp_w,tmp_x)\n",
    "#                     # _out_ = torch.matmul(tmp_x,tmp_w)\n",
    "#                     _,_out_ = _task(((cy,cx),tmp_x),tmp_w,Num_rows,Num_rows,\"cs\",False)\n",
    "#                     _out_ = torch.from_numpy(_out_)\n",
    "\n",
    "#                     column_start_idx = cx*columns_per_crossbar\n",
    "#                     if cx==crossbar_x-1:\n",
    "#                         column_end_idx=Total_dim\n",
    "#                     else:\n",
    "#                         column_end_idx = (cx+1)*columns_per_crossbar\n",
    "                    \n",
    "#                     mac_out_columns[:,column_start_idx:column_end_idx] += _out_[:,:columns_per_crossbar]\n",
    "#             output_conv_2d[:,:,ii,jj]=mac_out_columns\n",
    "#     return output_conv_2d\n"
   ]
  },
  {
   "cell_type": "code",
   "execution_count": 76,
   "id": "1aa7536a",
   "metadata": {},
   "outputs": [],
   "source": [
    "from concurrent.futures import ProcessPoolExecutor, as_completed\n",
    "import torch\n",
    "import math\n",
    "from tqdm import tqdm\n",
    "\n",
    "def run_tile(ii,jj,cy, cx, tmp_x_np, tmp_w_np, Num_rows, Num_Columns, columns_per_crossbar, Total_dim, mode,transient):\n",
    "    checkerboard_last_cols(tmp_w_np, tmp_w_np.shape[1] - columns_per_crossbar)\n",
    "    _, _out_np = _task(((ii,jj), tmp_x_np), tmp_w_np, Num_rows, Num_Columns, mode, transient)\n",
    "\n",
    "    column_start_idx = cx * columns_per_crossbar\n",
    "    column_end_idx = (cx + 1) * columns_per_crossbar\n",
    "    # column_end_idx = Total_dim if tmp_w_np.shape[1] - columns_per_crossbar < columns_per_crossbar else (cx + 1) * columns_per_crossbar\n",
    "    return ((ii, jj, column_start_idx, column_end_idx), _out_np[:, :columns_per_crossbar])\n",
    "\n",
    "def cim_conv_2d(crossbar_inputs, crossbar_weights, _COUT_, mode, Total_dim, transient,max_workers=None):\n",
    "    _N_, _HOUT_, _WOUT_, crossbar_y, Num_rows = crossbar_inputs.shape\n",
    "    _, crossbar_x, _, Num_Columns = crossbar_weights.shape\n",
    "    output_conv_2d = torch.zeros(_N_, _COUT_, _HOUT_, _WOUT_)\n",
    "\n",
    "    columns_per_crossbar = math.floor(_COUT_ / crossbar_x)\n",
    "\n",
    "    # Preconvert weights to NumPy once (this is reused for each (ii, jj))\n",
    "    weights_np = [[crossbar_weights[cy, cx].numpy() for cx in range(crossbar_x)] for cy in range(crossbar_y)]\n",
    "\n",
    "    tasks = []\n",
    "    with ProcessPoolExecutor(max_workers=max_workers) as executor:\n",
    "        for ii in range(_HOUT_):\n",
    "            for jj in range(_WOUT_):\n",
    "\n",
    "                for cy in range(crossbar_y):\n",
    "                    for cx in range(crossbar_x):\n",
    "                        tmp_x = crossbar_inputs[:, ii, jj, cy, :].numpy()\n",
    "                        tmp_w = weights_np[cy][cx]\n",
    "                        tasks.append((ii,jj,cy, cx, tmp_x, tmp_w, Num_rows, Num_Columns, columns_per_crossbar, Total_dim, mode, transient))\n",
    "\n",
    "        futures = [executor.submit(run_tile, *t) for t in tasks]\n",
    "        for f in tqdm(as_completed(futures),total=len(tasks)):\n",
    "            (ii,jj, col_start, col_end), out_np = f.result()\n",
    "            out = torch.from_numpy(out_np)\n",
    "            output_conv_2d[:, col_start:col_end, ii, jj] += out\n",
    "\n",
    "    return output_conv_2d\n"
   ]
  },
  {
   "cell_type": "code",
   "execution_count": 77,
   "id": "06533e6c",
   "metadata": {},
   "outputs": [
    {
     "name": "stdout",
     "output_type": "stream",
     "text": [
      "total inputs: 50\n",
      "torch.Size([1, 24, 24, 50])\n",
      "torch.Size([50, 6])\n",
      "torch.Size([1, 24, 24, 2, 32])\n",
      "weights shape: torch.Size([2, 1, 32, 32])\n",
      "inputs shape: torch.Size([1, 24, 24, 2, 32])\n"
     ]
    },
    {
     "name": "stderr",
     "output_type": "stream",
     "text": [
      "100%|██████████| 1152/1152 [00:07<00:00, 159.89it/s]\n"
     ]
    },
    {
     "data": {
      "text/plain": [
       "True"
      ]
     },
     "execution_count": 77,
     "metadata": {},
     "output_type": "execute_result"
    }
   ],
   "source": [
    "def conv2d_tile(x,w,Num_rows,Num_Columns,mode,max_workers,transient=False):\n",
    "    _N_,_HOUT_, _WOUT_,_CIN_, _kernel_size_ = x.shape\n",
    "    _COUT_, _CIN_, _kernel_size_ = w.shape\n",
    "    output_conv_2d = torch.zeros(_N_,_COUT_,_HOUT_,_WOUT_)\n",
    "\n",
    "    whole_input_size = _CIN_*_kernel_size_\n",
    "    print(f\"total inputs: {whole_input_size}\")\n",
    "    crossbar_y = math.ceil((_CIN_*_kernel_size_)/Num_rows)\n",
    "    crossbar_x = math.ceil(_COUT_/Num_Columns)\n",
    "\n",
    "    crossbar_weights = torch.zeros((crossbar_y,crossbar_x,Num_rows,Num_Columns))\n",
    "    crossbar_inputs = torch.zeros((_N_,_HOUT_,_WOUT_,crossbar_y,Num_rows))\n",
    "\n",
    "    rows_per_crossbar = math.floor(whole_input_size/crossbar_y)\n",
    "\n",
    "    flatten_x = x.reshape(*x.shape[:-2],-1)\n",
    "    print(flatten_x.shape)\n",
    "    flatten_w = w.reshape(*w.shape[:-2],-1).T\n",
    "    print(flatten_w.shape)\n",
    "    print(crossbar_inputs.shape)\n",
    "    print(f\"weights shape: {crossbar_weights.shape}\")\n",
    "    print(f\"inputs shape: {crossbar_inputs.shape}\")\n",
    "\n",
    "    columns_per_crossbar = math.floor(_COUT_/crossbar_x)\n",
    "\n",
    "    for ii in range(crossbar_y):\n",
    "        row_start_idx = ii*rows_per_crossbar\n",
    "        # if ii==crossbar_y-1:\n",
    "        #     row_end_idx = flatten_x.shape[-1]\n",
    "        # else:\n",
    "        row_end_idx = (ii+1)*rows_per_crossbar\n",
    "        # print(start_idx,end_idx)\n",
    "        crossbar_inputs[:,:,:,ii,:rows_per_crossbar] = flatten_x[:,:,:,row_start_idx:row_end_idx]\n",
    "    # for ii in range(0,whole_input_size,step=inpu)\n",
    "\n",
    "        for jj in range(crossbar_x):\n",
    "            column_start_idx = jj*columns_per_crossbar\n",
    "            # if jj==crossbar_x-1:\n",
    "            #     column_end_idx=flatten_w.shape[-1]\n",
    "            # else:\n",
    "            column_end_idx = (jj+1)*columns_per_crossbar\n",
    "            \n",
    "            crossbar_weights[ii,jj,:rows_per_crossbar,:columns_per_crossbar] = flatten_w[row_start_idx:row_end_idx,column_start_idx:column_end_idx]\n",
    "\n",
    "\n",
    "    # for n in range(_N_):\n",
    "    output_conv_2d = cim_conv_2d(crossbar_inputs,crossbar_weights,_COUT_,mode,flatten_w.shape[-1],transient=transient,max_workers=8)\n",
    "    # output_conv_2d = torch_conv_2d(crossbar_inputs,crossbar_weights,_COUT_,flatten_w.shape[-1])\n",
    "    return output_conv_2d\n",
    "output_conv_2d_cs=conv2d_tile(new_inputs,new_weights,Num_rows,Num_Columns,mode=\"cs\",max_workers=16,transient=False)\n",
    "output_conv_2d_cs = get_output(output_conv_2d_cs,Kh,Kw,CIN)\n",
    "torch.equal(output_conv_2d_cs,ref)"
   ]
  },
  {
   "cell_type": "code",
   "execution_count": 79,
   "id": "dfc6edfe",
   "metadata": {},
   "outputs": [
    {
     "name": "stdout",
     "output_type": "stream",
     "text": [
      "total inputs: 50\n",
      "torch.Size([1, 24, 24, 50])\n",
      "torch.Size([50, 6])\n",
      "torch.Size([1, 24, 24, 2, 32])\n",
      "weights shape: torch.Size([2, 1, 32, 32])\n",
      "inputs shape: torch.Size([1, 24, 24, 2, 32])\n"
     ]
    },
    {
     "name": "stderr",
     "output_type": "stream",
     "text": [
      "100%|██████████| 1152/1152 [00:07<00:00, 158.45it/s]\n"
     ]
    }
   ],
   "source": [
    "output_conv_2d_gs=conv2d_tile(new_inputs,new_weights,Num_rows,Num_Columns,mode=\"gs\",max_workers=8,transient=False)\n",
    "output_conv_2d_gs = get_output(output_conv_2d_gs,Kh,Kw,CIN)\n",
    "output_conv_2d_gs_b = binarized(output_conv_2d_gs)"
   ]
  },
  {
   "cell_type": "code",
   "execution_count": 80,
   "id": "d60a7943",
   "metadata": {},
   "outputs": [],
   "source": [
    "output_conv_2d_cs_b = binarized(output_conv_2d_cs) \n",
    "ref_b = binarized(ref)"
   ]
  },
  {
   "cell_type": "code",
   "execution_count": 81,
   "id": "5dab35b7",
   "metadata": {},
   "outputs": [
    {
     "data": {
      "text/plain": [
       "torch.Size([1, 6, 24, 24])"
      ]
     },
     "execution_count": 81,
     "metadata": {},
     "output_type": "execute_result"
    }
   ],
   "source": [
    "ref.shape"
   ]
  },
  {
   "cell_type": "code",
   "execution_count": 82,
   "id": "2aca3678",
   "metadata": {},
   "outputs": [
    {
     "name": "stdout",
     "output_type": "stream",
     "text": [
      "tensor([[[[0., 0., 0.,  ..., 0., 0., 0.],\n",
      "          [0., 0., 0.,  ..., 0., 0., 0.],\n",
      "          [0., 0., 0.,  ..., 0., 0., 0.],\n",
      "          ...,\n",
      "          [0., 0., 0.,  ..., 0., 0., 0.],\n",
      "          [0., 0., 0.,  ..., 0., 0., 0.],\n",
      "          [0., 0., 0.,  ..., 0., 0., 0.]],\n",
      "\n",
      "         [[0., 0., 0.,  ..., 0., 0., 0.],\n",
      "          [0., 0., 0.,  ..., 0., 0., 0.],\n",
      "          [0., 0., 0.,  ..., 0., 0., 0.],\n",
      "          ...,\n",
      "          [0., 0., 0.,  ..., 0., 0., 0.],\n",
      "          [0., 0., 0.,  ..., 0., 0., 0.],\n",
      "          [0., 0., 0.,  ..., 0., 0., 0.]],\n",
      "\n",
      "         [[0., 0., 0.,  ..., 0., 0., 0.],\n",
      "          [0., 0., 0.,  ..., 0., 0., 0.],\n",
      "          [0., 0., 0.,  ..., 0., 0., 0.],\n",
      "          ...,\n",
      "          [0., 0., 0.,  ..., 0., 0., 0.],\n",
      "          [0., 0., 0.,  ..., 0., 0., 0.],\n",
      "          [0., 0., 0.,  ..., 0., 0., 0.]],\n",
      "\n",
      "         [[0., 0., 0.,  ..., 0., 0., 0.],\n",
      "          [0., 0., 0.,  ..., 0., 0., 0.],\n",
      "          [0., 0., 0.,  ..., 0., 0., 0.],\n",
      "          ...,\n",
      "          [0., 0., 0.,  ..., 0., 0., 0.],\n",
      "          [0., 0., 0.,  ..., 0., 0., 0.],\n",
      "          [0., 0., 0.,  ..., 0., 0., 0.]],\n",
      "\n",
      "         [[0., 0., 0.,  ..., 0., 0., 0.],\n",
      "          [0., 0., 0.,  ..., 0., 0., 0.],\n",
      "          [0., 0., 0.,  ..., 0., 0., 0.],\n",
      "          ...,\n",
      "          [0., 0., 0.,  ..., 0., 0., 0.],\n",
      "          [0., 0., 0.,  ..., 0., 0., 0.],\n",
      "          [0., 0., 0.,  ..., 0., 0., 0.]],\n",
      "\n",
      "         [[0., 0., 0.,  ..., 0., 0., 0.],\n",
      "          [0., 0., 0.,  ..., 0., 0., 0.],\n",
      "          [0., 0., 0.,  ..., 0., 0., 0.],\n",
      "          ...,\n",
      "          [0., 0., 0.,  ..., 0., 0., 0.],\n",
      "          [0., 0., 0.,  ..., 0., 0., 0.],\n",
      "          [0., 0., 0.,  ..., 0., 0., 0.]]]])\n"
     ]
    }
   ],
   "source": [
    "with np.printoptions(threshold=float('inf')):\n",
    "    print(ref_b - output_conv_2d_cs_b)\n",
    "    # print(ref_b - output_conv_2d_cs_b)"
   ]
  },
  {
   "cell_type": "code",
   "execution_count": 42,
   "id": "27a9f7b7",
   "metadata": {},
   "outputs": [
    {
     "data": {
      "text/plain": [
       "torch.Size([256, 120])"
      ]
     },
     "execution_count": 42,
     "metadata": {},
     "output_type": "execute_result"
    }
   ],
   "source": [
    "fc_weight = model.fc1.weight.data.T\n",
    "fc_weight_b = binarized(fc_weight)\n",
    "fc_weight_b.shape\n"
   ]
  },
  {
   "cell_type": "code",
   "execution_count": 43,
   "id": "8a974fcf",
   "metadata": {},
   "outputs": [
    {
     "data": {
      "text/plain": [
       "torch.Size([1, 256])"
      ]
     },
     "execution_count": 43,
     "metadata": {},
     "output_type": "execute_result"
    }
   ],
   "source": [
    "fc_input = torch.randn(test_batch_size,fc_weight_b.shape[0])\n",
    "fc_input_b = binarized(fc_input)\n",
    "fc_input_b.shape"
   ]
  },
  {
   "cell_type": "code",
   "execution_count": 44,
   "id": "f288a209",
   "metadata": {},
   "outputs": [
    {
     "name": "stdout",
     "output_type": "stream",
     "text": [
      "torch.Size([256, 120])\n"
     ]
    }
   ],
   "source": [
    "fc_weight_pos, fc_weight_neg = compliment(fc_weight_b) \n",
    "fc_input_pos, fc_input_neg = compliment(fc_input_b)\n",
    "\n",
    "print(fc_weight_pos.shape)"
   ]
  },
  {
   "cell_type": "code",
   "execution_count": 45,
   "id": "1d6c71ea",
   "metadata": {},
   "outputs": [
    {
     "name": "stdout",
     "output_type": "stream",
     "text": [
      "torch.Size([1, 512])\n",
      "torch.Size([512, 120])\n"
     ]
    }
   ],
   "source": [
    "new_fc_weights = torch.empty((2*fc_weight_pos.shape[0],fc_weight_pos.shape[1]))\n",
    "new_fc_inputs = torch.empty((fc_input_pos.shape[0],2*fc_input_pos.shape[1]))\n",
    "\n",
    "for idx in range(fc_weight.shape[0]):\n",
    "    _pos_w_ = fc_weight_pos[idx]\n",
    "    _neg_w_ = fc_weight_neg[idx]\n",
    "    new_fc_weights[2*idx]=_pos_w_\n",
    "    new_fc_weights[2*idx+1]=_neg_w_\n",
    "\n",
    "    _pos_i_ = fc_input_pos[:,idx]\n",
    "    _neg_i_ = fc_input_neg[:,idx]\n",
    "\n",
    "    new_fc_inputs[:,2*idx] = _pos_i_\n",
    "    new_fc_inputs[:,2*idx+1] = _neg_i_\n",
    "\n",
    "print(new_fc_inputs.shape)\n",
    "print(new_fc_weights.shape)\n",
    "\n",
    "\n"
   ]
  },
  {
   "cell_type": "code",
   "execution_count": 46,
   "id": "61ac176b",
   "metadata": {},
   "outputs": [],
   "source": [
    "def get_fc_output(I, M):\n",
    "    out = 2*I - M\n",
    "    return out"
   ]
  },
  {
   "cell_type": "code",
   "execution_count": 47,
   "id": "58690f09",
   "metadata": {},
   "outputs": [
    {
     "data": {
      "text/plain": [
       "tensor([[ -6.,   0.,  18.,  28., -24.,   8.,  -8.,   2., -24.,   0.,  14., -16.,\n",
       "         -58.,  -6., -22.,   4.,   8., -22.,   4., -14.,   2.,   0.,  16., -12.,\n",
       "          -8., -18.,   2., -26., -26.,  -6.,  26.,   6., -28.,  -2.,   8.,  -4.,\n",
       "          16., -16.,   2.,   8.,  10.,  14.,  22., -12., -22., -12., -30., -20.,\n",
       "          22.,  30., -20.,  12.,   4.,  10.,   2., -20., -10., -16.,  10., -28.,\n",
       "          -2.,  18., -20.,   8.,   6., -18.,  18., -16.,   4., -10., -34., -20.,\n",
       "          -4.,  12.,   4.,   4., -24.,  -6.,   6.,  -4.,  12.,  14.,  12.,   4.,\n",
       "           0.,  -4.,   0.,  -8., -26.,  12.,  20., -26.,  20.,  10.,  -4., -24.,\n",
       "           2.,   0.,   6.,  16.,  38., -12.,  14.,  10.,  10.,  16.,  18.,  -6.,\n",
       "          -2., -34., -16.,   2., -12.,  16., -24.,  12.,  22.,  -2., -18.,   0.]])"
      ]
     },
     "execution_count": 47,
     "metadata": {},
     "output_type": "execute_result"
    }
   ],
   "source": [
    "out_2d = F.linear(new_fc_inputs,new_fc_weights.T)\n",
    "out_2d = get_fc_output(out_2d,fc_input.shape[-1])\n",
    "out_2d"
   ]
  },
  {
   "cell_type": "code",
   "execution_count": 48,
   "id": "a8c43f7c",
   "metadata": {},
   "outputs": [
    {
     "data": {
      "text/plain": [
       "True"
      ]
     },
     "execution_count": 48,
     "metadata": {},
     "output_type": "execute_result"
    }
   ],
   "source": [
    "ref_fc = F.linear(fc_input_b,fc_weight_b.T)\n",
    "torch.equal(ref_fc,out_2d)"
   ]
  },
  {
   "cell_type": "code",
   "execution_count": 83,
   "id": "cb4b9b73",
   "metadata": {},
   "outputs": [],
   "source": [
    "def  fc_linear(crossbar_inputs,crossbar_weights,N,mode,max_workers,transient):\n",
    "    crossbar_y,crossbar_x,Num_rows,Num_Columns = crossbar_weights.shape\n",
    "    _N_, crossbar_y, Num_rows = crossbar_inputs.shape\n",
    "    output = torch.zeros(_N_,N)\n",
    "    columns_per_crossbar = math.floor(N/crossbar_x)\n",
    "    \n",
    "    tasks = []\n",
    "\n",
    "    with ProcessPoolExecutor(max_workers=max_workers) as executor:\n",
    "        for ii in range(crossbar_y):\n",
    "            for jj in range(crossbar_x):\n",
    "                column_start_idx = jj*columns_per_crossbar\n",
    "                column_end_idx = (jj+1)*columns_per_crossbar\n",
    "                tmp_x = crossbar_inputs[:,ii]\n",
    "                tmp_w = crossbar_weights[ii][jj]\n",
    "                checkerboard_last_cols(tmp_w,Num_Columns-columns_per_crossbar)\n",
    "                # out_matmul = torch.matmul(tmp_x,tmp_w)\n",
    "                args = (((ii,jj),tmp_x),tmp_w,Num_rows,Num_Columns,mode,transient)\n",
    "                tasks.append(args)\n",
    "        futures = [executor.submit(_task, *t) for t in tasks]\n",
    "        for f in tqdm(as_completed(futures),total=len(tasks)):\n",
    "            (ii,jj), out_matmul = f.result()\n",
    "            column_start_idx = jj*columns_per_crossbar\n",
    "            column_end_idx = (jj+1)*columns_per_crossbar\n",
    "            out_matmul = torch.from_numpy(out_matmul)\n",
    "            output[:,column_start_idx:column_end_idx] += out_matmul[:,:columns_per_crossbar]\n",
    "\n",
    "    return output\n",
    "        \n",
    "# _ , out_matmul = _task(((ii,jj),tmp_x),tmp_w,Num_rows,Num_Columns,mode,False)\n",
    "# out_matmul = torch.from_numpy(out_matmul)\n",
    "# # print(out_matmul.shape)\n",
    "# output[:,column_start_idx:column_end_idx] += out_matmul[:,:columns_per_crossbar]"
   ]
  },
  {
   "cell_type": "code",
   "execution_count": 87,
   "id": "0c4d0ee1",
   "metadata": {},
   "outputs": [
    {
     "name": "stdout",
     "output_type": "stream",
     "text": [
      "crossbar grid 16 4\n",
      "32 30\n",
      "crossbar weigths : torch.Size([16, 4, 32, 32])\n",
      "crossbar inputs : torch.Size([1, 16, 32])\n"
     ]
    },
    {
     "name": "stderr",
     "output_type": "stream",
     "text": [
      "100%|██████████| 64/64 [00:00<00:00, 88.95it/s] \n"
     ]
    },
    {
     "data": {
      "text/plain": [
       "False"
      ]
     },
     "execution_count": 87,
     "metadata": {},
     "output_type": "execute_result"
    }
   ],
   "source": [
    "def fc_tile(x,w, Num_rows,Num_Columns,mode,max_workers,transient):\n",
    "    _N_ , M = x.shape\n",
    "    M , N = w.shape\n",
    "\n",
    "    crossbar_y = math.ceil(M/Num_rows)\n",
    "    crossbar_x = math.ceil(N/Num_Columns)\n",
    "    print(\"crossbar grid\",crossbar_y,crossbar_x)\n",
    "\n",
    "    crossbar_inputs = torch.zeros((_N_,crossbar_y,Num_rows))\n",
    "    crossbar_weights = torch.zeros((crossbar_y,crossbar_x,Num_rows,Num_Columns))\n",
    "\n",
    "    rows_per_crossbar = math.floor(M/crossbar_y)\n",
    "    columns_per_crossbar = math.floor(N/crossbar_x)\n",
    "\n",
    "    print(rows_per_crossbar, columns_per_crossbar)\n",
    "\n",
    "    for ii in range(crossbar_y):\n",
    "        row_start_idx = ii*rows_per_crossbar\n",
    "        # if ii==crossbar_y-1:\n",
    "        #     row_end_idx = M\n",
    "        # else:\n",
    "        row_end_idx = (ii+1)*rows_per_crossbar\n",
    "        crossbar_inputs[:,ii,:rows_per_crossbar] = x[:,row_start_idx:row_end_idx]\n",
    "    # for ii in range(0,whole_input_size,step=inpu)\n",
    "        # print(row_start_idx,row_end_idx)\n",
    "\n",
    "        for jj in range(crossbar_x):\n",
    "            column_start_idx = jj*columns_per_crossbar\n",
    "            # if jj==crossbar_x-1:\n",
    "            #     column_end_idx=N\n",
    "            # else:\n",
    "            column_end_idx = (jj+1)*columns_per_crossbar\n",
    "            # print(column_start_idx,column_end_idx)\n",
    "            \n",
    "            crossbar_weights[ii,jj,:rows_per_crossbar,:columns_per_crossbar] = w[row_start_idx:row_end_idx,column_start_idx:column_end_idx]\n",
    "        \n",
    "    print(f\"crossbar weigths : {crossbar_weights.shape}\")\n",
    "    print(f\"crossbar inputs : {crossbar_inputs.shape}\")\n",
    "    return fc_linear(crossbar_inputs,crossbar_weights,N,mode,max_workers,transient)\n",
    "    # output = torch.zeros(_N_,N)\n",
    "    # for ii in range(crossbar_y):\n",
    "    #     # row_start_idx = ii*rows_per_crossbar\n",
    "    #     # row_end_idx = (ii+1)*rows_per_crossbar\n",
    "    #     for jj in range(crossbar_x):\n",
    "    #         column_start_idx = jj*columns_per_crossbar\n",
    "    #         # if jj==crossbar_x-1:\n",
    "    #         #     column_end_idx=N\n",
    "    #         # else:\n",
    "    #         column_end_idx = (jj+1)*columns_per_crossbar\n",
    "    #         tmp_x = crossbar_inputs[:,ii]\n",
    "    #         tmp_w = crossbar_weights[ii][jj]\n",
    "    #         checkerboard_last_cols(tmp_w,Num_Columns-columns_per_crossbar)\n",
    "    #         _ , out_matmul = _task(((ii,jj),tmp_x),tmp_w,Num_rows,Num_Columns,mode,False)\n",
    "    #         out_matmul = torch.from_numpy(out_matmul)\n",
    "    #         output[:,column_start_idx:column_end_idx] += out_matmul[:,:columns_per_crossbar]\n",
    "\n",
    "    # return output\n",
    "\n",
    "\n",
    "fc_output = fc_tile(new_fc_inputs,new_fc_weights,Num_rows,Num_Columns,mode=\"gs\",max_workers=8,transient=False)\n",
    "fc_output=get_fc_output(fc_output,256)\n",
    "# print(fc_output)\n",
    "torch.equal(fc_output,ref_fc)"
   ]
  },
  {
   "cell_type": "code",
   "execution_count": 88,
   "id": "4f109369",
   "metadata": {},
   "outputs": [
    {
     "data": {
      "text/plain": [
       "tensor([[ -6.,   0.,  18.,  28., -24.,   8.,  -8.,   2., -24.,   0.,  14., -16.,\n",
       "         -58.,  -6., -22.,   4.,   8., -22.,   4., -14.,   2.,   0.,  16., -12.,\n",
       "          -8., -18.,   2., -26., -26.,  -6.,  26.,   6., -28.,  -2.,   8.,  -4.,\n",
       "          16., -16.,   2.,   8.,  10.,  14.,  22., -12., -22., -12., -30., -20.,\n",
       "          22.,  30., -20.,  12.,   4.,  10.,   2., -20., -10., -16.,  10., -28.,\n",
       "          -2.,  18., -20.,   8.,   6., -18.,  18., -16.,   4., -10., -34., -20.,\n",
       "          -4.,  12.,   4.,   4., -24.,  -6.,   6.,  -4.,  12.,  14.,  12.,   4.,\n",
       "           0.,  -4.,   0.,  -8., -26.,  12.,  20., -26.,  20.,  10.,  -4., -24.,\n",
       "           2.,   0.,   6.,  16.,  38., -12.,  14.,  10.,  10.,  16.,  18.,  -6.,\n",
       "          -2., -34., -16.,   2., -12.,  16., -24.,  12.,  22.,  -2., -18.,   0.]])"
      ]
     },
     "execution_count": 88,
     "metadata": {},
     "output_type": "execute_result"
    }
   ],
   "source": [
    "ref_fc"
   ]
  },
  {
   "cell_type": "code",
   "execution_count": 89,
   "id": "f1faafa8",
   "metadata": {},
   "outputs": [
    {
     "data": {
      "text/plain": [
       "tensor([[ 32.,  32.,  32.,  32.,  26.,  20.,  10.,   4.,   0.,   0.,   2.,   0.,\n",
       "           0.,   0.,   0.,   0.,   0.,   0.,   0.,   0.,  -2.,  -2.,  -4.,  -2.,\n",
       "           0.,  -4.,  -2.,   0.,   0.,  -4.,  32.,  32.,  32.,  28.,  28.,  22.,\n",
       "          14.,   8.,   4.,   0.,   0.,   2.,   0.,   0.,   0.,   0.,   0.,   0.,\n",
       "          -2.,   0.,   0.,  -2.,  -2.,  -2.,  -2.,  -2.,  -2.,  -4.,   0.,  -4.,\n",
       "          30.,  32.,  30.,  32.,  24.,  20.,  20.,   2.,   6.,   0.,   0.,   0.,\n",
       "           0.,   0.,   0.,   0.,   0.,   0.,   0.,   0.,   0.,  -2.,  -8.,  -2.,\n",
       "          -6.,  -2.,  -4.,  -4.,  -6., -12.,  32.,  32.,  32.,  30.,  26.,  18.,\n",
       "          12.,   6.,   2.,   0.,   0.,   0.,   0.,   0.,   0.,   0.,   0.,   0.,\n",
       "           0.,   0.,   0.,  -6.,  -2.,  -2.,  -4.,  -2.,  -4.,  -4.,   0.,  -6.]])"
      ]
     },
     "execution_count": 89,
     "metadata": {},
     "output_type": "execute_result"
    }
   ],
   "source": [
    "fc_output - ref_fc"
   ]
  }
 ],
 "metadata": {
  "kernelspec": {
   "display_name": "env",
   "language": "python",
   "name": "python3"
  },
  "language_info": {
   "codemirror_mode": {
    "name": "ipython",
    "version": 3
   },
   "file_extension": ".py",
   "mimetype": "text/x-python",
   "name": "python",
   "nbconvert_exporter": "python",
   "pygments_lexer": "ipython3",
   "version": "3.9.21"
  }
 },
 "nbformat": 4,
 "nbformat_minor": 5
}
