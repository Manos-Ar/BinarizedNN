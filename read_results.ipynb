{
 "cells": [
  {
   "cell_type": "code",
   "execution_count": 60,
   "id": "8cbc4365",
   "metadata": {},
   "outputs": [],
   "source": [
    "import os\n",
    "import torch\n",
    "from collections import defaultdict\n"
   ]
  },
  {
   "cell_type": "code",
   "execution_count": 61,
   "id": "77e58664",
   "metadata": {},
   "outputs": [],
   "source": [
    "# read_path = os.path.abspath(\"/shares/bulk/earapidis/dev/BinarizedNN/results/lenet_5/mapping/redo\")\n",
    "read_path = os.path.abspath(\"/shares/bulk/earapidis/dev/BinarizedNN/results/lenet_5/mapping/\")\n",
    "indices_path = os.path.join(read_path,\"random_indices.pt\")\n"
   ]
  },
  {
   "cell_type": "markdown",
   "id": "527e309f",
   "metadata": {},
   "source": []
  },
  {
   "cell_type": "code",
   "execution_count": 62,
   "id": "19a333c5",
   "metadata": {},
   "outputs": [],
   "source": [
    "    \n",
    "original_prediction_path = os.path.join(read_path,\"original_prediction.pt\")\n",
    "original_last_layer_path = os.path.join(read_path,\"original_last_layer.pt\")\n",
    "original_prediction = torch.load(original_prediction_path)\n",
    "original_last_layer = torch.load(original_last_layer_path)"
   ]
  },
  {
   "cell_type": "code",
   "execution_count": 63,
   "id": "3da8ced5",
   "metadata": {},
   "outputs": [],
   "source": [
    "modes = [\"ideal\"]\n",
    "# modes = [\"cs\"]\n",
    "modes = [\"cs\",\"gs\"]\n",
    "predictions_dict = defaultdict(lambda: defaultdict())\n",
    "last_layer_dict = defaultdict(lambda:defaultdict())\n",
    "for mode in modes:\n",
    "    mode_dir = os.path.join(read_path,mode)\n",
    "    last_layer_path = os.path.join(mode_dir,\"last_layer.pt\")\n",
    "    prediction_path = os.path.join(mode_dir,\"prediction.pt\")\n",
    "\n",
    "    prediction = torch.load(prediction_path)\n",
    "    last_layer = torch.load(last_layer_path)\n",
    "    predictions_dict[mode] = prediction\n",
    "    last_layer_dict[mode] = last_layer\n"
   ]
  },
  {
   "cell_type": "code",
   "execution_count": 64,
   "id": "bac9ae01",
   "metadata": {},
   "outputs": [
    {
     "name": "stdout",
     "output_type": "stream",
     "text": [
      "Predictions:\n",
      "\tMode: cs\n",
      "\tAccuracy: 100.00%\n",
      "\n",
      "\tMode: gs\n",
      "\tAccuracy: 50.00%\n",
      "\n"
     ]
    }
   ],
   "source": [
    "    \n",
    "print(\"Predictions:\")\n",
    "for mode, prediction in predictions_dict.items():\n",
    "        print(f\"\\tMode: {mode}\")\n",
    "        # print(f\"Predictions:   {prediction}\")\n",
    "        # print(f\"Original:      {original_prediction}\")\n",
    "        num_correct = (prediction == original_prediction ).sum().item()\n",
    "        # print(num_correct)\n",
    "        total = torch.numel(original_prediction)\n",
    "        acc = (num_correct /total)  * 100.0\n",
    "        print(f\"\\tAccuracy: {acc:.2f}%\")\n",
    "        print()"
   ]
  },
  {
   "cell_type": "code",
   "execution_count": 65,
   "id": "ee3567e3",
   "metadata": {},
   "outputs": [
    {
     "name": "stdout",
     "output_type": "stream",
     "text": [
      "\tMode: cs\n",
      "tensor([[[ 0.7353,  0.6696, -0.5338,  0.9988,  1.0036,  0.0000,  0.6468,\n",
      "           0.5527, -0.9126,  0.0000],\n",
      "         [ 0.0000,  0.0000,  0.0000,  0.0000,  0.0000,  0.0000,  0.0000,\n",
      "           0.0000,  0.0000,  0.0000],\n",
      "         [ 0.3677, -0.3348,  0.2669,  0.2497,  0.7527,  0.2423, -0.3234,\n",
      "          -0.2764,  0.6845,  0.6558],\n",
      "         [-0.3677, -1.0044, -0.2669, -0.2497,  0.2509,  0.2423, -1.6170,\n",
      "          -1.3818,  0.2282,  0.2186],\n",
      "         [ 0.0000,  0.0000,  0.0000,  0.0000,  0.0000,  0.0000,  0.0000,\n",
      "           0.0000,  0.0000,  0.0000],\n",
      "         [ 0.0000,  0.0000,  0.0000,  0.0000,  0.0000,  0.0000,  0.0000,\n",
      "           0.0000,  0.0000,  0.0000],\n",
      "         [ 0.0000,  0.0000,  0.0000,  0.0000,  0.0000,  0.0000,  0.0000,\n",
      "           0.0000,  0.0000,  0.0000],\n",
      "         [ 0.0000,  0.0000,  0.0000,  0.0000,  0.0000,  0.0000,  0.0000,\n",
      "           0.0000,  0.0000,  0.0000],\n",
      "         [ 0.3677, -0.3348, -0.2669,  0.2497, -0.2509,  0.2423, -0.3234,\n",
      "          -0.2764,  0.2282, -0.2186],\n",
      "         [ 0.0000,  0.0000,  0.0000,  0.0000,  0.0000,  0.0000,  0.0000,\n",
      "           0.0000,  0.0000,  0.0000]]])\n",
      "\tMode: gs\n",
      "tensor([[[ -7.3534,  -4.6872,  -1.8682,   2.4971,  -3.7634,  -0.2423,  -3.2340,\n",
      "            2.2109,  -1.8253,   1.3116],\n",
      "         [-12.1332,  -5.6916,  -5.0707,  -3.7456,  -6.5232,   0.2423,  -6.1446,\n",
      "           -6.3564,   2.5097,  -1.0930],\n",
      "         [  1.4707,  -3.3480,   0.2669,   1.7479,  -2.5089,   0.0000,  -1.6170,\n",
      "            0.5527,   0.0000,  -0.8744],\n",
      "         [ -3.3090,  -3.6828,  -1.3344,   1.2485,  -9.2830,  -1.2113,  -4.8510,\n",
      "           -5.2510,   4.7913,  -1.0930],\n",
      "         [ -3.6767,  -4.6872,  -2.1351,  -1.9976,  -3.0107,  -0.4845,   0.0000,\n",
      "           -1.6582,  -0.4563,   0.0000],\n",
      "         [ -5.8827,  -3.6828,   1.0675,  -0.2497,  -1.5053,  -1.6958,  -2.5872,\n",
      "            1.1055,  -3.1942,   5.6838],\n",
      "         [ -5.1474,   2.6784,  -1.6013,   1.7479,  -2.5089,  -1.4535,  -3.2340,\n",
      "           -0.5527,   2.2816,  -0.4372],\n",
      "         [ -7.7211,  -7.7004,   0.2669,   0.9988,  -4.7669,   0.7268,  -4.5276,\n",
      "           -1.6582,  -2.2816,  -1.3116],\n",
      "         [ -4.7797,  -2.3436,   1.8682,   2.7468,  -5.2687,  -1.2113,  -4.2042,\n",
      "           -0.2764,  -1.5971,   4.1535],\n",
      "         [ -2.5737,  -2.0088,  -0.5338,  -1.2485,   0.0000,   0.2423,  -0.6468,\n",
      "           -0.5527,  -0.4563,   0.4372]]])\n"
     ]
    }
   ],
   "source": [
    "    \n",
    "for mode, last_layer in last_layer_dict.items():\n",
    "        print(f\"\\tMode: {mode}\")\n",
    "        # print(last_layer)\n",
    "        # print(original_last_layer)\n",
    "        print(original_last_layer-last_layer)\n",
    "        # print(torch.equal(original_last_layer,last_layer))"
   ]
  }
 ],
 "metadata": {
  "kernelspec": {
   "display_name": "env",
   "language": "python",
   "name": "python3"
  },
  "language_info": {
   "codemirror_mode": {
    "name": "ipython",
    "version": 3
   },
   "file_extension": ".py",
   "mimetype": "text/x-python",
   "name": "python",
   "nbconvert_exporter": "python",
   "pygments_lexer": "ipython3",
   "version": "3.9.21"
  }
 },
 "nbformat": 4,
 "nbformat_minor": 5
}
