{
 "cells": [
  {
   "cell_type": "code",
   "execution_count": 18,
   "id": "c97fb603",
   "metadata": {},
   "outputs": [],
   "source": [
    "import dill\n",
    "import os\n",
    "import matplotlib.pyplot as plt\n",
    "from tqdm import tqdm\n",
    "from concurrent.futures import ProcessPoolExecutor, as_completed\n",
    "from collections import defaultdict"
   ]
  },
  {
   "cell_type": "code",
   "execution_count": 19,
   "id": "2e8d554c",
   "metadata": {},
   "outputs": [],
   "source": [
    "import numpy as np\n",
    "from scipy.optimize import minimize_scalar"
   ]
  },
  {
   "cell_type": "code",
   "execution_count": 20,
   "id": "3676018c",
   "metadata": {},
   "outputs": [],
   "source": [
    "import sys\n",
    "sys.path.append('/shares/bulk/earapidis/dev/Fast-Crossbar-Sim/python')\n",
    "import crossbar\n",
    "import importlib\n"
   ]
  },
  {
   "cell_type": "code",
   "execution_count": 21,
   "id": "ce7ba487",
   "metadata": {},
   "outputs": [
    {
     "data": {
      "text/plain": [
       "<module 'crossbar' from '/shares/bulk/earapidis/dev/Fast-Crossbar-Sim/python/crossbar.py'>"
      ]
     },
     "execution_count": 21,
     "metadata": {},
     "output_type": "execute_result"
    }
   ],
   "source": [
    "importlib.reload(crossbar)"
   ]
  },
  {
   "cell_type": "code",
   "execution_count": 22,
   "id": "6587bb9c",
   "metadata": {},
   "outputs": [],
   "source": [
    "from crossbar import _collect_currents_"
   ]
  },
  {
   "cell_type": "code",
   "execution_count": 23,
   "id": "3aab54d7",
   "metadata": {},
   "outputs": [],
   "source": [
    "model_idx = 1\n",
    "models_dir = os.path.abspath(f\"/shares/bulk/earapidis/dev/BinarizedNN/saved_models/lenet_5/model_{model_idx}\")\n",
    "\n",
    "x_kde_path = os.path.join(models_dir,\"x_kde.pkl\")\n",
    "w_kde_path = os.path.join(models_dir,\"w_kde.pkl\")\n",
    "\n",
    "with open(x_kde_path,\"rb\") as f:\n",
    "    x_kde = dill.load(f)\n",
    "\n",
    "with open(w_kde_path,\"rb\") as f:\n",
    "    w_kde = dill.load(f)\n"
   ]
  },
  {
   "cell_type": "code",
   "execution_count": 24,
   "id": "11f34ca8",
   "metadata": {},
   "outputs": [
    {
     "data": {
      "text/plain": [
       "<matplotlib.legend.Legend at 0x7f70a0ae80d0>"
      ]
     },
     "execution_count": 24,
     "metadata": {},
     "output_type": "execute_result"
    },
    {
     "data": {
      "image/png": "[encoded data removed]",
      "text/plain": [
       "<Figure size 432x288 with 1 Axes>"
      ]
     },
     "metadata": {
      "needs_background": "light"
     },
     "output_type": "display_data"
    }
   ],
   "source": [
    "num_samples = 100000\n",
    "x = x_kde.resample(num_samples)\n",
    "w = w_kde.resample(num_samples)\n",
    "x = x.squeeze()\n",
    "w = w.squeeze()\n",
    "bins = 10\n",
    "plt.hist(x,label=\"kde x\",alpha=0.5,bins=bins)\n",
    "plt.hist(w,label=\"kde w\",alpha=0.5,bins=bins)\n",
    "plt.legend()"
   ]
  },
  {
   "cell_type": "code",
   "execution_count": 25,
   "id": "cf5f0d1d",
   "metadata": {},
   "outputs": [],
   "source": [
    "def find_optimal_divisors(S, T):\n",
    "    \"\"\"\n",
    "    Finds the optimal divisor d to minimize the error between target labels T \n",
    "    and rounded predicted labels S/d.\n",
    "    \n",
    "    Parameters:\n",
    "        S (array-like): Sum values corresponding to each peak.\n",
    "        T (array-like): True integer target labels.\n",
    "    \n",
    "    Returns:\n",
    "        float: The optimal divisor d.\n",
    "    \"\"\"\n",
    "    S = np.array(S, dtype=float)\n",
    "    T = np.array(T, dtype=float)\n",
    "    \n",
    "    def cost_function(d):\n",
    "        if d <= 0:  # Ensure d is positive to avoid division errors\n",
    "            return np.inf\n",
    "        predicted_labels = np.floor((S+0.5*d) / d)\n",
    "        # predicted_labels = np.round(S / d)\n",
    "        return np.sum(np.power(T - predicted_labels,2))  # Minimize absolute error\n",
    "\n",
    "    # Use Brent’s method to find optimal d\n",
    "    # result = minimize_scalar(cost_function, method='brent')\n",
    "    result = minimize_scalar(cost_function, bounds=(0, 61), method='bounded')\n",
    "    \n",
    "    return result.x  # Return the best divisor found"
   ]
  },
  {
   "cell_type": "code",
   "execution_count": 26,
   "id": "916cfcd3",
   "metadata": {},
   "outputs": [],
   "source": [
    "def generate_samples(x_kde,w_kde,mapping,num_samples):\n",
    "    if mapping:\n",
    "        x_per = 0.5\n",
    "        w_per = 0.5\n",
    "        x = [x_per for i in range(num_samples)]\n",
    "        w = [w_per for i in range(num_samples)]\n",
    "    else:\n",
    "        x = x_kde.resample(num_samples)\n",
    "        w = w_kde.resample(num_samples)\n",
    "        x = x.squeeze()\n",
    "        w = w.squeeze()\n",
    "    return (x,w)\n",
    "        \n",
    "    "
   ]
  },
  {
   "cell_type": "code",
   "execution_count": 27,
   "id": "c73fb8ad",
   "metadata": {},
   "outputs": [],
   "source": [
    "def run_samples(x,w,Num_rows,Num_columns,max_workers):\n",
    "    num_runs = 1\n",
    "    transient = False\n",
    "    tasks = []\n",
    "    for idx, _x_ in enumerate(x):\n",
    "        _w_ = w[idx]\n",
    "        tasks.append((idx,_x_,_w_,Num_rows,Num_columns,num_runs,transient))\n",
    "    outputs = []\n",
    "    with ProcessPoolExecutor(max_workers=max_workers) as executor:\n",
    "        futures = [executor.submit(_collect_currents_, *t) for t in tasks]\n",
    "        for f in tqdm(as_completed(futures),total=len(tasks),desc=\"running samples\"):\n",
    "            output = f.result()\n",
    "            outputs.append(output)\n",
    "    return outputs"
   ]
  },
  {
   "cell_type": "code",
   "execution_count": 28,
   "id": "ca5de232",
   "metadata": {},
   "outputs": [],
   "source": [
    "def generate_adc_steps(outputs,mode, Num_columns):\n",
    "    macs = []\n",
    "    mvms = []\n",
    "    for idx, output in outputs:\n",
    "        mac = output[0]\n",
    "        mvm = output[1]\n",
    "        macs.append(mac)\n",
    "        mvms.append(mvm)\n",
    "    \n",
    "    if mode==\"gs\":\n",
    "        mac = np.ravel(np.stack(macs))\n",
    "        mvm = np.ravel(np.stack(mvms))\n",
    "        gs_step = find_optimal_divisors(mac,mvm)\n",
    "        steps = [gs_step for i in range(Num_columns)]\n",
    "    elif mode==\"cs\":\n",
    "        mac = np.stack(macs)\n",
    "        mvm = np.stack(mvms)\n",
    "        # print(mac.shape)\n",
    "        # print(mvm.shape)\n",
    "        steps = []\n",
    "\n",
    "        for column in tqdm(range(Num_columns),disable=True):\n",
    "            _mac_ = np.ravel(mac[:,column])\n",
    "            _mvm_ = np.ravel(mvm[:,column])\n",
    "            # print(_mac_.shape)\n",
    "            # print(_mvm_.shape)\n",
    "            step = find_optimal_divisors(_mac_,_mvm_)\n",
    "            steps.append(step)\n",
    "    else:\n",
    "        raise Exception(f\"invalid mode: {mode}, select gs or cs\")\n",
    "    steps = np.array(steps)\n",
    "    return steps"
   ]
  },
  {
   "cell_type": "code",
   "execution_count": 29,
   "id": "22b311d8",
   "metadata": {},
   "outputs": [
    {
     "name": "stdout",
     "output_type": "stream",
     "text": [
      "mapping: True\n"
     ]
    },
    {
     "name": "stderr",
     "output_type": "stream",
     "text": [
      "running samples: 100%|██████████| 10000/10000 [00:30<00:00, 323.27it/s]\n"
     ]
    },
    {
     "name": "stdout",
     "output_type": "stream",
     "text": [
      "mode: gs\n",
      "mode: cs\n",
      "mapping: False\n"
     ]
    },
    {
     "name": "stderr",
     "output_type": "stream",
     "text": [
      "running samples: 100%|██████████| 10000/10000 [00:31<00:00, 319.79it/s]\n"
     ]
    },
    {
     "name": "stdout",
     "output_type": "stream",
     "text": [
      "mode: gs\n",
      "mode: cs\n"
     ]
    }
   ],
   "source": [
    "# mappings = [False]\n",
    "mappings = [True,False]\n",
    "modes = [\"gs\",\"cs\"]\n",
    "Num_rows = 32\n",
    "Num_columns = 32\n",
    "num_samples = 10000\n",
    "max_workers = 20\n",
    "adc_steps = defaultdict()\n",
    "\n",
    "for mapping in mappings:\n",
    "    print(f\"mapping: {mapping}\")\n",
    "    x, w = generate_samples(x_kde,w_kde,mapping,num_samples)\n",
    "    outputs = run_samples(x,w,Num_rows,Num_columns,max_workers)\n",
    "    for mode in modes:\n",
    "        print(f\"mode: {mode}\")\n",
    "        steps = generate_adc_steps(outputs,mode,Num_columns)\n",
    "        adc_steps[f\"mapping_{mapping}-{mode}\"] = steps\n",
    "    "
   ]
  },
  {
   "cell_type": "code",
   "execution_count": 30,
   "id": "3d628dec",
   "metadata": {},
   "outputs": [],
   "source": [
    "ideal_current = 61.057\n",
    "adc_steps[\"ideal\"] = np.array([ideal_current for i in range(Num_columns)])"
   ]
  },
  {
   "cell_type": "code",
   "execution_count": 31,
   "id": "63510dd5",
   "metadata": {},
   "outputs": [
    {
     "data": {
      "text/plain": [
       "<matplotlib.legend.Legend at 0x7f70a61c6b20>"
      ]
     },
     "execution_count": 31,
     "metadata": {},
     "output_type": "execute_result"
    },
    {
     "data": {
      "image/png": "[encoded data removed]",
      "text/plain": [
       "<Figure size 720x576 with 1 Axes>"
      ]
     },
     "metadata": {
      "needs_background": "light"
     },
     "output_type": "display_data"
    }
   ],
   "source": [
    "fig, ax = plt.subplots()\n",
    "x_ticks = np.arange(Num_columns)\n",
    "fig.set_size_inches((10,8))\n",
    "for mode , steps in adc_steps.items():\n",
    "    plt.scatter(x_ticks,steps,label=f\"{mode}\")\n",
    "    plt.plot(x_ticks,steps,linestyle=\"--\")\n",
    "plt.xlabel(\"Column Index\",fontsize=22)\n",
    "plt.ylabel(\"ADC steps (μΑ)\",fontsize=22)\n",
    "ax.set_xticks(x_ticks)\n",
    "ax.set_xticklabels(x_ticks+1)\n",
    "plt.legend()"
   ]
  },
  {
   "cell_type": "code",
   "execution_count": 32,
   "id": "f262444f",
   "metadata": {},
   "outputs": [],
   "source": [
    "adc_steps[\"ideal-no-comp\"] = np.array([ideal_current for i in range(Num_columns)])\n"
   ]
  },
  {
   "cell_type": "code",
   "execution_count": 33,
   "id": "670001a7",
   "metadata": {},
   "outputs": [],
   "source": [
    "adc_steps_path = os.path.join(models_dir,\"adc_steps.pkl\")\n",
    "with open(adc_steps_path,\"wb\") as f:\n",
    "    dill.dump(adc_steps,f)"
   ]
  }
 ],
 "metadata": {
  "kernelspec": {
   "display_name": "env (3.9.21)",
   "language": "python",
   "name": "python3"
  },
  "language_info": {
   "codemirror_mode": {
    "name": "ipython",
    "version": 3
   },
   "file_extension": ".py",
   "mimetype": "text/x-python",
   "name": "python",
   "nbconvert_exporter": "python",
   "pygments_lexer": "ipython3",
   "version": "3.9.21"
  }
 },
 "nbformat": 4,
 "nbformat_minor": 5
}
