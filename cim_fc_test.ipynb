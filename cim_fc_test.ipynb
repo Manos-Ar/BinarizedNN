{
 "cells": [
  {
   "cell_type": "code",
   "execution_count": 77,
   "id": "dc865033",
   "metadata": {},
   "outputs": [],
   "source": [
    "import torch\n",
    "import torch.nn.functional as F\n",
    "from torchvision import datasets, transforms\n",
    "import numpy as np\n",
    "import os\n",
    "from models.binarized_modules import binarized\n",
    "import math\n",
    "from concurrent.futures import ProcessPoolExecutor, as_completed\n",
    "from tqdm import tqdm\n",
    "# from binarized_modules import  BinarizeLinear,BinarizeConv2d"
   ]
  },
  {
   "cell_type": "code",
   "execution_count": 78,
   "id": "b3a7db34",
   "metadata": {},
   "outputs": [],
   "source": [
    "import models.cim_fc\n",
    "import models.cim_conv"
   ]
  },
  {
   "cell_type": "code",
   "execution_count": 79,
   "id": "98ff005b",
   "metadata": {},
   "outputs": [],
   "source": [
    "import importlib"
   ]
  },
  {
   "cell_type": "code",
   "execution_count": 80,
   "id": "14ac1a6a",
   "metadata": {},
   "outputs": [
    {
     "data": {
      "text/plain": [
       "<module 'models.cim_fc' from '/shares/bulk/earapidis/dev/BinarizedNN/models/cim_fc.py'>"
      ]
     },
     "execution_count": 80,
     "metadata": {},
     "output_type": "execute_result"
    }
   ],
   "source": [
    "importlib.reload(models.cim_conv)\n",
    "importlib.reload(models.cim_fc)"
   ]
  },
  {
   "cell_type": "code",
   "execution_count": 81,
   "id": "236bd51d",
   "metadata": {},
   "outputs": [],
   "source": [
    "cuda = False"
   ]
  },
  {
   "cell_type": "code",
   "execution_count": 82,
   "id": "62f8a92a",
   "metadata": {},
   "outputs": [],
   "source": [
    "kwargs = {'num_workers': 1, 'pin_memory': True} if cuda else {}"
   ]
  },
  {
   "cell_type": "code",
   "execution_count": 83,
   "id": "51fbfb3f",
   "metadata": {},
   "outputs": [],
   "source": [
    "test_batch_size=1"
   ]
  },
  {
   "cell_type": "code",
   "execution_count": 84,
   "id": "a26c3bf7",
   "metadata": {},
   "outputs": [],
   "source": [
    "test_loader = torch.utils.data.DataLoader(\n",
    "    datasets.MNIST('data', train=False, transform=transforms.Compose([\n",
    "                       transforms.ToTensor(),\n",
    "                       transforms.Normalize((0.1307,), (0.3081,))\n",
    "                   ])),\n",
    "    batch_size=test_batch_size, shuffle=True, **kwargs)"
   ]
  },
  {
   "cell_type": "code",
   "execution_count": 85,
   "id": "2f677885",
   "metadata": {},
   "outputs": [],
   "source": [
    "from models.mlp import MLP,MLP_CIM\n",
    "model_idx = 2\n",
    "models_path = os.path.abspath(f\"/shares/bulk/earapidis/dev/BinarizedNN/saved_models/mlp/model_{model_idx}\")\n",
    "model_path = os.path.join(models_path,f\"best.pth\")\n",
    "\n",
    "model = MLP()\n",
    "model.load_state_dict(torch.load(model_path))\n",
    "if cuda:\n",
    "    torch.cuda.set_device(0)\n",
    "    model.cuda()"
   ]
  },
  {
   "cell_type": "code",
   "execution_count": 86,
   "id": "275a5f3a",
   "metadata": {},
   "outputs": [],
   "source": [
    "# from models.lenet_5 import BinarizedLeNet5_BN as Lenet_5\n",
    "# from models.lenet_5 import BinarizedLeNet5_BN_CIM as Lenet_5_CIM\n",
    "\n",
    "# model_idx = 1\n",
    "# models_path = os.path.abspath(f\"/shares/bulk/earapidis/dev/BinarizedNN/saved_models/lenet_5/model_{model_idx}\")\n",
    "# model_path = os.path.join(models_path,f\"best.pth\")\n",
    "# model = Lenet_5()\n",
    "# model.load_state_dict(torch.load(model_path))\n",
    "# if cuda:\n",
    "#     torch.cuda.set_device(0)\n",
    "#     model.cuda()"
   ]
  },
  {
   "cell_type": "code",
   "execution_count": 87,
   "id": "43fba5d1",
   "metadata": {},
   "outputs": [
    {
     "data": {
      "text/plain": [
       "MLP(\n",
       "  (fc1): BinarizeLinear(in_features=784, out_features=512, bias=True)\n",
       "  (bn1): BatchNorm1d(512, eps=1e-05, momentum=0.1, affine=True, track_running_stats=True)\n",
       "  (htanh1): Hardtanh(min_val=-1.0, max_val=1.0)\n",
       "  (fc2): BinarizeLinear(in_features=512, out_features=32, bias=True)\n",
       "  (bn2): BatchNorm1d(32, eps=1e-05, momentum=0.1, affine=True, track_running_stats=True)\n",
       "  (htanh2): Hardtanh(min_val=-1.0, max_val=1.0)\n",
       "  (fc3): BinarizeLinear(in_features=32, out_features=10, bias=True)\n",
       "  (drop): Dropout(p=0.1, inplace=False)\n",
       ")"
      ]
     },
     "execution_count": 87,
     "metadata": {},
     "output_type": "execute_result"
    }
   ],
   "source": [
    "model.eval()"
   ]
  },
  {
   "cell_type": "code",
   "execution_count": 88,
   "id": "b5e1ca00",
   "metadata": {},
   "outputs": [
    {
     "name": "stdout",
     "output_type": "stream",
     "text": [
      "image shape: torch.Size([1, 1, 28, 28])\n"
     ]
    }
   ],
   "source": [
    "images, labels = next(iter(test_loader))\n",
    "print(f\"image shape: {images.shape}\")"
   ]
  },
  {
   "cell_type": "code",
   "execution_count": 89,
   "id": "fdc484eb",
   "metadata": {},
   "outputs": [],
   "source": [
    "x = images.view(-1, 28*28)\n",
    "x = x.detach()"
   ]
  },
  {
   "cell_type": "code",
   "execution_count": 90,
   "id": "70d11603",
   "metadata": {},
   "outputs": [],
   "source": [
    "\n",
    "# x=model.conv1(images)\n",
    "# x=model.bn1(x)\n",
    "# x=model.htanh1(x)\n",
    "# x=model.pool1(x)\n",
    "# x = x.detach()"
   ]
  },
  {
   "cell_type": "code",
   "execution_count": 91,
   "id": "0ed57961",
   "metadata": {},
   "outputs": [
    {
     "data": {
      "text/plain": [
       "torch.Size([1, 784])"
      ]
     },
     "execution_count": 91,
     "metadata": {},
     "output_type": "execute_result"
    }
   ],
   "source": [
    "inputs = x\n",
    "inputs = binarized(inputs)\n",
    "inputs.shape"
   ]
  },
  {
   "cell_type": "code",
   "execution_count": 92,
   "id": "42d4cfda",
   "metadata": {},
   "outputs": [
    {
     "data": {
      "text/plain": [
       "torch.Size([512, 784])"
      ]
     },
     "execution_count": 92,
     "metadata": {},
     "output_type": "execute_result"
    }
   ],
   "source": [
    "filters = model.fc1.weight.data\n",
    "# filters = model.conv2.weight.data\n",
    "filters = binarized(filters)\n",
    "filters.shape"
   ]
  },
  {
   "cell_type": "code",
   "execution_count": 93,
   "id": "3a39df9f",
   "metadata": {},
   "outputs": [
    {
     "data": {
      "text/plain": [
       "torch.Size([1, 512])"
      ]
     },
     "execution_count": 93,
     "metadata": {},
     "output_type": "execute_result"
    }
   ],
   "source": [
    "# ref = model.conv2(x)\n",
    "ref = model.fc1(x)\n",
    "ref.shape"
   ]
  },
  {
   "cell_type": "code",
   "execution_count": 94,
   "id": "7601815b",
   "metadata": {},
   "outputs": [
    {
     "data": {
      "text/plain": [
       "MLP_CIM(\n",
       "  (fc1): BinarizeLinearInference(in_features=784, out_features=512, bias=True)\n",
       "  (bn1): BatchNorm1d(512, eps=1e-05, momentum=0.1, affine=True, track_running_stats=True)\n",
       "  (htanh1): Hardtanh(min_val=-1.0, max_val=1.0)\n",
       "  (fc2): BinarizeLinearInference(in_features=512, out_features=32, bias=True)\n",
       "  (bn2): BatchNorm1d(32, eps=1e-05, momentum=0.1, affine=True, track_running_stats=True)\n",
       "  (htanh2): Hardtanh(min_val=-1.0, max_val=1.0)\n",
       "  (fc3): BinarizeLinearInference(in_features=32, out_features=10, bias=True)\n",
       "  (drop): Dropout(p=0.1, inplace=False)\n",
       ")"
      ]
     },
     "execution_count": 94,
     "metadata": {},
     "output_type": "execute_result"
    }
   ],
   "source": [
    "mapping = False\n",
    "# mapping = True\n",
    "# model_cim = Lenet_5_CIM(Num_rows=32, Num_Columns=32, mode=\"ideal\",workers=16,transient=False,checkboard=mapping,mapping=mapping)\n",
    "model_cim = MLP_CIM(Num_rows=32, Num_Columns=32, mode=\"ideal\",workers=16,transient=False,checkboard=mapping,mapping=mapping)\n",
    "model_cim.load_state_dict(model.state_dict())\n",
    "\n",
    "model_cim.eval()"
   ]
  },
  {
   "cell_type": "code",
   "execution_count": 95,
   "id": "5e9dbe88",
   "metadata": {},
   "outputs": [
    {
     "data": {
      "text/plain": [
       "True"
      ]
     },
     "execution_count": 95,
     "metadata": {},
     "output_type": "execute_result"
    }
   ],
   "source": [
    "output = model_cim.fc1(inputs)\n",
    "# output = model_cim.conv2(inputs)\n",
    "torch.equal(ref,output)"
   ]
  }
 ],
 "metadata": {
  "kernelspec": {
   "display_name": "env",
   "language": "python",
   "name": "python3"
  },
  "language_info": {
   "codemirror_mode": {
    "name": "ipython",
    "version": 3
   },
   "file_extension": ".py",
   "mimetype": "text/x-python",
   "name": "python",
   "nbconvert_exporter": "python",
   "pygments_lexer": "ipython3",
   "version": "3.9.21"
  }
 },
 "nbformat": 4,
 "nbformat_minor": 5
}
