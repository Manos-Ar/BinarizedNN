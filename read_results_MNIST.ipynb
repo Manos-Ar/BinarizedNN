{
 "cells": [
  {
   "cell_type": "code",
   "execution_count": 65,
   "id": "8cbc4365",
   "metadata": {},
   "outputs": [],
   "source": [
    "import os\n",
    "import torch\n",
    "from collections import defaultdict\n"
   ]
  },
  {
   "cell_type": "code",
   "execution_count": 66,
   "id": "77e58664",
   "metadata": {},
   "outputs": [],
   "source": [
    "read_path = os.path.abspath(\"/shares/bulk/earapidis/dev/BinarizedNN/validation/MNIST/\")\n",
    "indices_path = os.path.join(read_path,\"random_indices.pt\")\n"
   ]
  },
  {
   "cell_type": "code",
   "execution_count": 67,
   "id": "19a333c5",
   "metadata": {},
   "outputs": [],
   "source": [
    "    \n",
    "original_prediction_path = os.path.join(read_path,\"original_prediction.pt\")\n",
    "original_last_layer_path = os.path.join(read_path,\"original_last_layer.pt\")\n",
    "original_prediction = torch.load(original_prediction_path)\n",
    "original_last_layer = torch.load(original_last_layer_path)"
   ]
  },
  {
   "cell_type": "code",
   "execution_count": 68,
   "id": "3da8ced5",
   "metadata": {},
   "outputs": [],
   "source": [
    "modes = [\"ideal\"]\n",
    "mappings = [True,False]\n",
    "# model_type = \"mlp\"\n",
    "model_type = \"lenet\"\n",
    "model_type_path = os.path.join(read_path,model_type)\n",
    "predictions_dict = defaultdict(lambda: defaultdict())\n",
    "last_layer_dict = defaultdict(lambda:defaultdict())\n",
    "for mapping in mappings:\n",
    "    for mode in modes:\n",
    "        mode_dir = os.path.join(model_type_path,f\"{mode}_mapping_{mapping}\")\n",
    "        last_layer_path = os.path.join(mode_dir,\"last_layer.pt\")\n",
    "        prediction_path = os.path.join(mode_dir,\"prediction.pt\")\n",
    "\n",
    "        prediction = torch.load(prediction_path)\n",
    "        last_layer = torch.load(last_layer_path)\n",
    "        predictions_dict[f\"{mode}_mapping_{mapping}\"] = prediction\n",
    "        last_layer_dict[f\"{mode}_mapping_{mapping}\"] = last_layer\n"
   ]
  },
  {
   "cell_type": "code",
   "execution_count": 69,
   "id": "bac9ae01",
   "metadata": {},
   "outputs": [
    {
     "name": "stdout",
     "output_type": "stream",
     "text": [
      "Predictions:\n",
      "\tMode: ideal_mapping_True\n",
      "\tAccuracy: 100.00%\n",
      "\n",
      "\tMode: ideal_mapping_False\n",
      "\tAccuracy: 100.00%\n",
      "\n"
     ]
    }
   ],
   "source": [
    "    \n",
    "print(\"Predictions:\")\n",
    "for mode, prediction in predictions_dict.items():\n",
    "        print(f\"\\tMode: {mode}\")\n",
    "        # print(f\"Predictions:   {prediction}\")\n",
    "        # print(f\"Original:      {original_prediction}\")\n",
    "        num_correct = (prediction == original_prediction ).sum().item()\n",
    "        # print(num_correct)\n",
    "        total = torch.numel(original_prediction)\n",
    "        acc = (num_correct /total)  * 100.0\n",
    "        print(f\"\\tAccuracy: {acc:.2f}%\")\n",
    "        print()"
   ]
  },
  {
   "cell_type": "code",
   "execution_count": 70,
   "id": "ee3567e3",
   "metadata": {},
   "outputs": [
    {
     "name": "stdout",
     "output_type": "stream",
     "text": [
      "\tMode: ideal_mapping_True\n",
      "torch.Size([1, 10, 10])\n",
      "True\n",
      "\tMode: ideal_mapping_False\n",
      "torch.Size([1, 10, 10])\n",
      "True\n"
     ]
    }
   ],
   "source": [
    "for mode, last_layer in last_layer_dict.items():\n",
    "        print(f\"\\tMode: {mode}\")\n",
    "        # print(last_layer)\n",
    "        print(original_last_layer.shape)\n",
    "        # print(original_last_layer-last_layer)\n",
    "        print(torch.equal(original_last_layer,last_layer))"
   ]
  }
 ],
 "metadata": {
  "kernelspec": {
   "display_name": "env",
   "language": "python",
   "name": "python3"
  },
  "language_info": {
   "codemirror_mode": {
    "name": "ipython",
    "version": 3
   },
   "file_extension": ".py",
   "mimetype": "text/x-python",
   "name": "python",
   "nbconvert_exporter": "python",
   "pygments_lexer": "ipython3",
   "version": "3.9.21"
  }
 },
 "nbformat": 4,
 "nbformat_minor": 5
}
