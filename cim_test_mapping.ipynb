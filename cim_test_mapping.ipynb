{
 "cells": [
  {
   "cell_type": "code",
   "execution_count": 44,
   "id": "dc865033",
   "metadata": {},
   "outputs": [],
   "source": [
    "import torch\n",
    "import torch.nn.functional as F\n",
    "from torchvision import datasets, transforms\n",
    "import numpy as np\n",
    "import os\n",
    "from models.binarized_modules import binarized\n",
    "import math\n",
    "from concurrent.futures import ProcessPoolExecutor, as_completed\n",
    "from tqdm import tqdm\n",
    "# from binarized_modules import  BinarizeLinear,BinarizeConv2d"
   ]
  },
  {
   "cell_type": "code",
   "execution_count": 45,
   "id": "86bde069",
   "metadata": {},
   "outputs": [],
   "source": [
    "import sys\n",
    "sys.path.append('/shares/bulk/earapidis/dev/Fast-Crossbar-Sim/python')\n",
    "# sys.path.append('/home/earapidis/Fast-Crossbar-Sim/python')\n",
    "from crossbar import VectorSim, ParallelSim, _task\n",
    "from tqdm import tqdm"
   ]
  },
  {
   "cell_type": "code",
   "execution_count": 46,
   "id": "8b3bde3d",
   "metadata": {},
   "outputs": [
    {
     "data": {
      "text/plain": [
       "'/shares/bulk/earapidis/dev/BinarizedNN'"
      ]
     },
     "execution_count": 46,
     "metadata": {},
     "output_type": "execute_result"
    }
   ],
   "source": [
    "os.getcwd()"
   ]
  },
  {
   "cell_type": "code",
   "execution_count": 47,
   "id": "236bd51d",
   "metadata": {},
   "outputs": [],
   "source": [
    "cuda = False"
   ]
  },
  {
   "cell_type": "code",
   "execution_count": 48,
   "id": "62f8a92a",
   "metadata": {},
   "outputs": [],
   "source": [
    "kwargs = {'num_workers': 1, 'pin_memory': True} if cuda else {}"
   ]
  },
  {
   "cell_type": "code",
   "execution_count": 49,
   "id": "51fbfb3f",
   "metadata": {},
   "outputs": [],
   "source": [
    "test_batch_size=1"
   ]
  },
  {
   "cell_type": "code",
   "execution_count": 50,
   "id": "a26c3bf7",
   "metadata": {},
   "outputs": [],
   "source": [
    "test_loader = torch.utils.data.DataLoader(\n",
    "    datasets.MNIST('data', train=False, transform=transforms.Compose([\n",
    "                       transforms.ToTensor(),\n",
    "                       transforms.Normalize((0.1307,), (0.3081,))\n",
    "                   ])),\n",
    "    batch_size=test_batch_size, shuffle=True, **kwargs)"
   ]
  },
  {
   "cell_type": "code",
   "execution_count": 51,
   "id": "2d875105",
   "metadata": {},
   "outputs": [],
   "source": [
    "# from mnist_bnn import Net\n",
    "from models.lenet_5 import BinarizedLeNet5_BN as Net\n",
    "\n",
    "model = Net()\n",
    "if cuda:\n",
    "    torch.cuda.set_device(0)\n",
    "    model.cuda()\n"
   ]
  },
  {
   "cell_type": "code",
   "execution_count": 52,
   "id": "3117c990",
   "metadata": {},
   "outputs": [],
   "source": [
    "# model_path = os.path.join(models_path,f\"epoch_7.pth\")\n",
    "model_idx = 4\n",
    "models_path = os.path.abspath(f\"/shares/bulk/earapidis/dev/BinarizedNN/saved_models/lenet_5/model_{model_idx}\")\n",
    "# models_path = os.path.abspath(f\"/home/earapidis/BinarizedNN/saved_models/lenet_5/model_{model_idx}\")\n",
    "model_path = os.path.join(models_path,f\"epoch_2.pth\")\n",
    "# model_path = os.path.join(models_path,f\"best.pth\")\n",
    "model = Net()\n",
    "model.load_state_dict(torch.load(model_path))\n",
    "if cuda:\n",
    "    torch.cuda.set_device(0)\n",
    "    model.cuda()"
   ]
  },
  {
   "cell_type": "code",
   "execution_count": 53,
   "id": "43fba5d1",
   "metadata": {},
   "outputs": [
    {
     "data": {
      "text/plain": [
       "BinarizedLeNet5_BN(\n",
       "  (conv1): BinarizeConv2d(1, 6, kernel_size=(5, 5), stride=(1, 1))\n",
       "  (bn1): BatchNorm2d(6, eps=1e-05, momentum=0.1, affine=True, track_running_stats=True)\n",
       "  (htanh1): Hardtanh(min_val=-1.0, max_val=1.0)\n",
       "  (pool1): AvgPool2d(kernel_size=2, stride=2, padding=0)\n",
       "  (conv2): BinarizeConv2d(6, 16, kernel_size=(5, 5), stride=(1, 1))\n",
       "  (bn2): BatchNorm2d(16, eps=1e-05, momentum=0.1, affine=True, track_running_stats=True)\n",
       "  (htanh2): Hardtanh(min_val=-1.0, max_val=1.0)\n",
       "  (pool2): AvgPool2d(kernel_size=2, stride=2, padding=0)\n",
       "  (fc1): BinarizeLinear(in_features=256, out_features=120, bias=True)\n",
       "  (bn_fc1): BatchNorm1d(120, eps=1e-05, momentum=0.1, affine=True, track_running_stats=True)\n",
       "  (htanh3): Hardtanh(min_val=-1.0, max_val=1.0)\n",
       "  (fc2): BinarizeLinear(in_features=120, out_features=84, bias=True)\n",
       "  (bn_fc2): BatchNorm1d(84, eps=1e-05, momentum=0.1, affine=True, track_running_stats=True)\n",
       "  (htanh4): Hardtanh(min_val=-1.0, max_val=1.0)\n",
       "  (fc3): BinarizeLinear(in_features=84, out_features=10, bias=True)\n",
       "  (bn_fc3): BatchNorm1d(10, eps=1e-05, momentum=0.1, affine=True, track_running_stats=True)\n",
       ")"
      ]
     },
     "execution_count": 53,
     "metadata": {},
     "output_type": "execute_result"
    }
   ],
   "source": [
    "model.eval()"
   ]
  },
  {
   "cell_type": "code",
   "execution_count": 54,
   "id": "b5e1ca00",
   "metadata": {},
   "outputs": [
    {
     "name": "stdout",
     "output_type": "stream",
     "text": [
      "image shape: torch.Size([1, 1, 28, 28])\n"
     ]
    }
   ],
   "source": [
    "images, labels = next(iter(test_loader))\n",
    "print(f\"image shape: {images.shape}\")"
   ]
  },
  {
   "cell_type": "code",
   "execution_count": 55,
   "id": "fdc484eb",
   "metadata": {},
   "outputs": [],
   "source": [
    "\n",
    "x=model.conv1(images)\n",
    "x=model.bn1(x)\n",
    "x=model.htanh1(x)\n",
    "x=model.pool1(x)\n",
    "x = x.detach()"
   ]
  },
  {
   "cell_type": "code",
   "execution_count": 56,
   "id": "0ed57961",
   "metadata": {},
   "outputs": [
    {
     "data": {
      "text/plain": [
       "torch.Size([1, 6, 12, 12])"
      ]
     },
     "execution_count": 56,
     "metadata": {},
     "output_type": "execute_result"
    }
   ],
   "source": [
    "# inputs = images\n",
    "inputs = x\n",
    "inputs = binarized(inputs)\n",
    "inputs.shape"
   ]
  },
  {
   "cell_type": "code",
   "execution_count": 58,
   "id": "e6eb9a0e",
   "metadata": {},
   "outputs": [
    {
     "data": {
      "text/plain": [
       "torch.Size([16, 6, 5, 5])"
      ]
     },
     "execution_count": 58,
     "metadata": {},
     "output_type": "execute_result"
    }
   ],
   "source": [
    "filters = model.conv2.weight.data\n",
    "# filters = model.conv1.weight.data\n",
    "filters = binarized(filters)\n",
    "filters.shape"
   ]
  },
  {
   "cell_type": "code",
   "execution_count": 59,
   "id": "38c44fa2",
   "metadata": {},
   "outputs": [
    {
     "name": "stdout",
     "output_type": "stream",
     "text": [
      "8 8\n"
     ]
    }
   ],
   "source": [
    "\n",
    "COUT, CIN, Kh, Kw = filters.shape\n",
    "N, CIN, Hi,Wi = inputs.shape\n",
    "# Hi = 24\n",
    "# Wi = 24\n",
    "# N = 1\n",
    "padding = 0 \n",
    "Num_rows = 32\n",
    "Num_Columns = 32           \n",
    "# dilation = 1         \n",
    "# stride =2\n",
    "# Hout = math.floor((Hi + 2*padding - dilation*(Kh-1) -1)/stride + 1)\n",
    "# Wout = math.floor((Wi + 2*padding - dilation*(Kw-1) -1)/stride + 1)\n",
    "Hout = Hi + 2*padding - Kh + 1\n",
    "Wout = Wi + 2*padding - Kw + 1\n",
    "print(Hout,Wout)\n",
    "\n",
    "# filters = torch.randn(COUT, CIN, Kh, Kw)\n"
   ]
  },
  {
   "cell_type": "code",
   "execution_count": 60,
   "id": "e568a3fb",
   "metadata": {},
   "outputs": [
    {
     "data": {
      "text/plain": [
       "tensor([[[[-1., -1., -1., -1., -1., -1., -1., -1., -1., -1., -1., -1.],\n",
       "          [-1., -1., -1., -1., -1.,  1.,  1.,  1.,  1.,  1., -1., -1.],\n",
       "          [-1., -1., -1., -1., -1.,  1.,  1.,  1.,  1.,  1.,  1.,  1.],\n",
       "          [-1., -1., -1.,  1.,  1.,  1.,  1.,  1.,  1.,  1.,  1.,  1.],\n",
       "          [-1., -1.,  1.,  1.,  1.,  1., -1., -1.,  1.,  1.,  1.,  1.],\n",
       "          [-1.,  1.,  1.,  1.,  1., -1., -1., -1.,  1.,  1.,  1.,  1.],\n",
       "          [ 1.,  1.,  1.,  1.,  1., -1., -1.,  1.,  1.,  1.,  1., -1.],\n",
       "          [ 1.,  1.,  1.,  1., -1., -1.,  1.,  1.,  1.,  1., -1., -1.],\n",
       "          [ 1.,  1.,  1., -1., -1.,  1.,  1.,  1.,  1.,  1., -1., -1.],\n",
       "          [ 1.,  1.,  1.,  1.,  1.,  1.,  1.,  1., -1., -1., -1., -1.],\n",
       "          [-1.,  1.,  1.,  1.,  1.,  1., -1., -1., -1., -1., -1., -1.],\n",
       "          [-1., -1., -1., -1., -1., -1., -1., -1., -1., -1., -1., -1.]],\n",
       "\n",
       "         [[ 1.,  1.,  1.,  1.,  1.,  1.,  1.,  1.,  1.,  1.,  1.,  1.],\n",
       "          [ 1.,  1.,  1.,  1.,  1.,  1.,  1., -1., -1., -1.,  1.,  1.],\n",
       "          [ 1.,  1.,  1.,  1.,  1., -1., -1., -1., -1., -1., -1.,  1.],\n",
       "          [ 1.,  1.,  1.,  1., -1., -1., -1.,  1., -1., -1., -1.,  1.],\n",
       "          [ 1.,  1.,  1., -1., -1., -1.,  1.,  1.,  1., -1., -1.,  1.],\n",
       "          [ 1.,  1., -1., -1., -1.,  1.,  1.,  1.,  1., -1., -1.,  1.],\n",
       "          [ 1., -1., -1., -1.,  1.,  1.,  1.,  1., -1., -1.,  1.,  1.],\n",
       "          [ 1., -1., -1.,  1.,  1.,  1.,  1., -1., -1., -1.,  1.,  1.],\n",
       "          [ 1., -1., -1.,  1.,  1.,  1., -1., -1., -1.,  1.,  1.,  1.],\n",
       "          [ 1., -1., -1., -1., -1., -1., -1.,  1.,  1.,  1.,  1.,  1.],\n",
       "          [ 1., -1., -1., -1., -1., -1.,  1.,  1.,  1.,  1.,  1.,  1.],\n",
       "          [ 1.,  1.,  1.,  1.,  1.,  1.,  1.,  1.,  1.,  1.,  1.,  1.]],\n",
       "\n",
       "         [[-1., -1., -1., -1., -1.,  1.,  1.,  1.,  1., -1., -1., -1.],\n",
       "          [-1., -1., -1., -1.,  1.,  1.,  1., -1., -1., -1., -1., -1.],\n",
       "          [-1., -1., -1.,  1.,  1., -1., -1., -1., -1., -1., -1., -1.],\n",
       "          [-1., -1.,  1.,  1., -1., -1., -1., -1., -1., -1., -1., -1.],\n",
       "          [-1.,  1.,  1., -1., -1., -1.,  1., -1., -1., -1., -1., -1.],\n",
       "          [ 1.,  1., -1., -1., -1.,  1.,  1.,  1.,  1., -1., -1.,  1.],\n",
       "          [ 1.,  1., -1., -1.,  1.,  1.,  1.,  1., -1., -1., -1.,  1.],\n",
       "          [ 1., -1., -1., -1.,  1.,  1.,  1., -1., -1., -1.,  1.,  1.],\n",
       "          [-1., -1., -1.,  1.,  1.,  1., -1., -1., -1.,  1.,  1., -1.],\n",
       "          [-1., -1., -1., -1., -1., -1., -1., -1.,  1.,  1.,  1., -1.],\n",
       "          [-1., -1., -1., -1., -1., -1., -1.,  1.,  1., -1., -1., -1.],\n",
       "          [-1., -1., -1., -1., -1.,  1.,  1.,  1., -1., -1., -1., -1.]],\n",
       "\n",
       "         [[-1., -1., -1., -1., -1., -1.,  1.,  1.,  1.,  1.,  1., -1.],\n",
       "          [-1., -1., -1., -1., -1.,  1.,  1.,  1.,  1.,  1.,  1.,  1.],\n",
       "          [-1., -1., -1.,  1.,  1.,  1.,  1.,  1.,  1.,  1.,  1.,  1.],\n",
       "          [-1., -1.,  1.,  1.,  1.,  1., -1., -1., -1.,  1.,  1.,  1.],\n",
       "          [-1., -1.,  1.,  1.,  1., -1., -1., -1., -1.,  1.,  1.,  1.],\n",
       "          [-1.,  1.,  1.,  1., -1., -1., -1.,  1.,  1.,  1.,  1., -1.],\n",
       "          [ 1.,  1.,  1.,  1., -1., -1.,  1.,  1.,  1.,  1., -1., -1.],\n",
       "          [ 1.,  1.,  1., -1., -1.,  1.,  1.,  1.,  1., -1., -1., -1.],\n",
       "          [ 1.,  1.,  1.,  1.,  1.,  1.,  1.,  1., -1., -1., -1., -1.],\n",
       "          [-1.,  1.,  1.,  1.,  1.,  1.,  1., -1., -1., -1., -1., -1.],\n",
       "          [-1., -1., -1., -1., -1., -1., -1., -1., -1., -1., -1., -1.],\n",
       "          [-1., -1., -1., -1., -1., -1., -1., -1., -1., -1., -1., -1.]],\n",
       "\n",
       "         [[ 1.,  1.,  1.,  1.,  1.,  1., -1., -1., -1.,  1.,  1.,  1.],\n",
       "          [ 1.,  1.,  1.,  1.,  1., -1., -1., -1., -1.,  1.,  1.,  1.],\n",
       "          [ 1.,  1.,  1.,  1., -1., -1., -1., -1., -1., -1.,  1.,  1.],\n",
       "          [ 1.,  1., -1., -1., -1., -1., -1., -1., -1., -1.,  1.,  1.],\n",
       "          [ 1.,  1., -1., -1., -1., -1.,  1.,  1., -1., -1.,  1.,  1.],\n",
       "          [ 1., -1., -1., -1., -1.,  1.,  1., -1., -1., -1.,  1.,  1.],\n",
       "          [-1., -1., -1., -1.,  1.,  1., -1., -1., -1., -1.,  1.,  1.],\n",
       "          [-1., -1., -1.,  1.,  1., -1., -1., -1., -1., -1.,  1.,  1.],\n",
       "          [-1., -1., -1.,  1., -1., -1., -1., -1., -1.,  1.,  1.,  1.],\n",
       "          [-1., -1., -1., -1., -1., -1., -1., -1., -1.,  1.,  1.,  1.],\n",
       "          [-1., -1., -1., -1., -1., -1., -1.,  1.,  1.,  1.,  1.,  1.],\n",
       "          [ 1., -1., -1., -1., -1., -1.,  1.,  1.,  1.,  1.,  1.,  1.]],\n",
       "\n",
       "         [[-1., -1., -1., -1., -1., -1., -1., -1., -1., -1., -1., -1.],\n",
       "          [-1., -1., -1., -1., -1., -1., -1., -1., -1., -1., -1., -1.],\n",
       "          [-1., -1., -1., -1., -1., -1.,  1.,  1.,  1.,  1.,  1., -1.],\n",
       "          [-1., -1., -1., -1., -1.,  1.,  1.,  1.,  1.,  1.,  1.,  1.],\n",
       "          [-1., -1., -1., -1.,  1.,  1.,  1., -1., -1.,  1.,  1.,  1.],\n",
       "          [-1., -1., -1.,  1.,  1.,  1.,  1., -1., -1.,  1.,  1.,  1.],\n",
       "          [-1., -1., -1.,  1.,  1.,  1., -1., -1., -1.,  1.,  1.,  1.],\n",
       "          [-1., -1.,  1.,  1.,  1., -1., -1., -1.,  1.,  1.,  1., -1.],\n",
       "          [-1.,  1.,  1., -1., -1., -1., -1.,  1.,  1.,  1.,  1., -1.],\n",
       "          [-1.,  1.,  1., -1., -1., -1.,  1.,  1.,  1.,  1., -1., -1.],\n",
       "          [-1.,  1.,  1.,  1.,  1.,  1.,  1.,  1., -1., -1., -1., -1.],\n",
       "          [-1.,  1.,  1.,  1.,  1.,  1.,  1., -1., -1., -1., -1., -1.]]]])"
      ]
     },
     "execution_count": 60,
     "metadata": {},
     "output_type": "execute_result"
    }
   ],
   "source": [
    "inputs"
   ]
  },
  {
   "cell_type": "code",
   "execution_count": 61,
   "id": "19407a80",
   "metadata": {},
   "outputs": [
    {
     "name": "stdout",
     "output_type": "stream",
     "text": [
      "tensor([[1, 1, 1, 1, 1, 1, 0, 1],\n",
      "        [1, 1, 1, 1, 1, 1, 1, 0],\n",
      "        [1, 1, 1, 1, 1, 1, 0, 1],\n",
      "        [1, 1, 1, 1, 1, 1, 1, 0],\n",
      "        [1, 1, 1, 1, 1, 1, 0, 1],\n",
      "        [1, 1, 1, 1, 1, 1, 1, 0]], dtype=torch.int32)\n"
     ]
    }
   ],
   "source": [
    "def checkerboard_last_cols(arr: torch.Tensor, C: int) -> torch.Tensor:\n",
    "    n, m = arr.shape\n",
    "    if C == 0:\n",
    "        return arr.clone()  # return a copy even if unchanged\n",
    "    if C > m:\n",
    "        raise ValueError(\"C cannot be larger than the number of columns m.\")\n",
    "    \n",
    "    arr_copy = arr.clone()\n",
    "    rows = torch.arange(n).view(-1, 1)                \n",
    "    cols = torch.arange(m - C, m).view(1, -1)         \n",
    "\n",
    "    pattern = (rows + cols) % 2\n",
    "    arr_copy[:, -C:] = pattern\n",
    "    return arr_copy\n",
    "# Example\n",
    "A = torch.ones((6, 8), dtype=torch.int)\n",
    "A=checkerboard_last_cols(A, C=2)\n",
    "print(A)\n"
   ]
  },
  {
   "cell_type": "code",
   "execution_count": 62,
   "id": "9b88f4b2",
   "metadata": {},
   "outputs": [],
   "source": [
    "def compliment(x):\n",
    "    x = x.clone()\n",
    "    neg = -1*x\n",
    "    pos = x\n",
    "\n",
    "    pos[pos==-1] = 0\n",
    "    neg[neg==-1] = 0\n",
    "    return pos, neg"
   ]
  },
  {
   "cell_type": "code",
   "execution_count": 63,
   "id": "bff71dd4",
   "metadata": {},
   "outputs": [],
   "source": [
    "def map_conv2d(x,w,padding=0):\n",
    "    _N_, _CIN_, _Hi_, _Wi_ = x.shape\n",
    "    _COUT_, _CIN_, _Kh_, _Kw_ = w.shape\n",
    "    pos_w, neg_w = compliment(w)\n",
    "    mapped_w = torch.empty((_COUT_,_CIN_,2*(_Kh_*_Kw_)))\n",
    "\n",
    "    pos_w = pos_w.reshape(_COUT_,_CIN_,-1)\n",
    "    neg_w = neg_w.reshape(_COUT_,_CIN_,-1)\n",
    "    kernel_size = _Kh_*_Kw_\n",
    "    for i in range(kernel_size):\n",
    "\n",
    "        mapped_w[:,:,2*i] = pos_w[:,:,i]\n",
    "        mapped_w[:,:,2*i+1] = neg_w[:,:,i]\n",
    "    \n",
    "    _Hout_ = _Hi_ + 2*padding - _Kh_ + 1\n",
    "    _Wout_ = _Wi_ + 2*padding - _Kw_ + 1\n",
    "    \n",
    "    mapped_x = torch.empty((_N_,_Hout_,_Wout_,_CIN_,2*kernel_size))\n",
    "    pos_x, neg_x = compliment(x)\n",
    "    \n",
    "    for ii in range(_Hout_):\n",
    "        for jj in range(_Wout_):\n",
    "            _pos_ = pos_x[:,:,ii:ii+_Kh_,jj:jj+_Kw_]\n",
    "            _neg_ = neg_x[:,:,ii:ii+_Kh_,jj:jj+_Kw_]\n",
    "            # print(_pos_.shape)\n",
    "            _pos_ = _pos_.reshape(_N_,_CIN_,-1)\n",
    "            _neg_ = _neg_.reshape(_N_,_CIN_,-1)\n",
    "            one_kernel = torch.empty(_N_,_CIN_,2*kernel_size)\n",
    "            for z in range(kernel_size):\n",
    "                one_kernel[:,:,2*z]=_pos_[:,:,z]\n",
    "                one_kernel[:,:,2*z+1]=_neg_[:,:,z]\n",
    "            mapped_x[:,ii,jj,:,:] = one_kernel\n",
    "    return mapped_x,mapped_w"
   ]
  },
  {
   "cell_type": "code",
   "execution_count": 64,
   "id": "438b78ef",
   "metadata": {},
   "outputs": [],
   "source": [
    "new_inputs,new_weights = map_conv2d(inputs,filters)"
   ]
  },
  {
   "cell_type": "code",
   "execution_count": 65,
   "id": "f30a235d",
   "metadata": {},
   "outputs": [],
   "source": [
    "def get_conv2d_output(I,Kh, Kw, CIN):\n",
    "    out = 2*I - Kh*Kw*CIN\n",
    "    return out"
   ]
  },
  {
   "cell_type": "code",
   "execution_count": 66,
   "id": "2468f870",
   "metadata": {},
   "outputs": [
    {
     "data": {
      "text/plain": [
       "torch.Size([1, 16, 8, 8])"
      ]
     },
     "execution_count": 66,
     "metadata": {},
     "output_type": "execute_result"
    }
   ],
   "source": [
    "ref = F.conv2d(inputs, filters, padding=0)\n",
    "ref.shape"
   ]
  },
  {
   "cell_type": "code",
   "execution_count": 67,
   "id": "b7892dff",
   "metadata": {},
   "outputs": [
    {
     "data": {
      "text/plain": [
       "torch.Size([1, 16, 8, 8])"
      ]
     },
     "execution_count": 67,
     "metadata": {},
     "output_type": "execute_result"
    }
   ],
   "source": [
    "out_2d = torch.empty((N,COUT,Hout,Wout))\n",
    "out_2d.shape"
   ]
  },
  {
   "cell_type": "code",
   "execution_count": 68,
   "id": "56e7b626",
   "metadata": {},
   "outputs": [
    {
     "data": {
      "text/plain": [
       "torch.Size([16, 6, 50])"
      ]
     },
     "execution_count": 68,
     "metadata": {},
     "output_type": "execute_result"
    }
   ],
   "source": [
    "new_weights.shape"
   ]
  },
  {
   "cell_type": "code",
   "execution_count": 69,
   "id": "b517ce08",
   "metadata": {},
   "outputs": [
    {
     "data": {
      "text/plain": [
       "True"
      ]
     },
     "execution_count": 69,
     "metadata": {},
     "output_type": "execute_result"
    }
   ],
   "source": [
    "out_2d = torch.empty((N,COUT,Hout,Wout))\n",
    "# print(out_2d)\n",
    "for ii in range(Hout):\n",
    "    for jj in range(Wout):\n",
    "        one_pixel = new_inputs[:,ii,jj,:,:]\n",
    "        # print(one_pixel.shape)\n",
    "        out_1d = F.conv1d(one_pixel,new_weights)\n",
    "        out_1d = out_1d.squeeze(-1)\n",
    "        # print(out_1d.shape)\n",
    "        out_2d[:,:,ii,jj] = out_1d\n",
    "out_2d = get_conv2d_output(out_2d,Kh,Kw,CIN)\n",
    "torch.equal(out_2d,ref)"
   ]
  },
  {
   "cell_type": "code",
   "execution_count": 70,
   "id": "7ee6537c",
   "metadata": {},
   "outputs": [],
   "source": [
    "# def torch_conv_2d(crossbar_inputs,crossbar_weights,_COUT_,Total_dim):\n",
    "#     _N_,_HOUT_,_WOUT_,crossbar_y,Num_rows = crossbar_inputs.shape\n",
    "#     _,crossbar_x,_,Num_Columns = crossbar_weights.shape\n",
    "#     output_conv_2d = torch.zeros(_N_,_COUT_,_HOUT_,_WOUT_)\n",
    "\n",
    "#     columns_per_crossbar = math.floor(_COUT_/crossbar_x)\n",
    "\n",
    "#     for ii in range(_HOUT_):\n",
    "#         for jj in range(_WOUT_):\n",
    "#             mac_out_columns = torch.zeros((_N_,_COUT_))\n",
    "#             for cy in range(crossbar_y):\n",
    "#                 for cx in range(crossbar_x):\n",
    "#                     tmp_x=crossbar_inputs[:,ii,jj,cy,:]\n",
    "#                     tmp_w=crossbar_weights[cy,cx,:,:]\n",
    "#                     checkerboard_last_cols(tmp_w,Num_Columns-columns_per_crossbar)\n",
    "#                     # tmp_w=crossbar_weights\n",
    "#                     # print(tmp_x.shape)\n",
    "#                     # print(tmp_w.shape)\n",
    "#                     # _out_ = torch.matmul(tmp_w,tmp_x)\n",
    "#                     _out_ = torch.matmul(tmp_x,tmp_w)\n",
    "\n",
    "#                     column_start_idx = cx*columns_per_crossbar\n",
    "#                     if cx==crossbar_x-1:\n",
    "#                         column_end_idx=Total_dim\n",
    "#                     else:\n",
    "#                         column_end_idx = (cx+1)*columns_per_crossbar\n",
    "                    \n",
    "#                     mac_out_columns[:,column_start_idx:column_end_idx] += _out_[:,:columns_per_crossbar]\n",
    "#             output_conv_2d[:,:,ii,jj]=mac_out_columns\n",
    "#     return output_conv_2d\n"
   ]
  },
  {
   "cell_type": "code",
   "execution_count": 71,
   "id": "1aa7536a",
   "metadata": {},
   "outputs": [],
   "source": [
    "def run_tile(ii,jj,cx, tmp_x_np, tmp_w_np, Num_rows, Num_Columns, columns_per_crossbar, Total_dim, mode,transient):\n",
    "    # tmp_w_np = checkerboard_last_cols(tmp_w_np, tmp_w_np.shape[1] - columns_per_crossbar)\n",
    "    \n",
    "    _, _out_np = _task(((ii,jj), tmp_x_np), tmp_w_np, Num_rows, Num_Columns, mode, transient)\n",
    "\n",
    "    column_start_idx = cx * columns_per_crossbar\n",
    "    column_end_idx = (cx + 1) * columns_per_crossbar\n",
    "    # column_end_idx = Total_dim if tmp_w_np.shape[1] - columns_per_crossbar < columns_per_crossbar else (cx + 1) * columns_per_crossbar\n",
    "    return ((ii, jj, column_start_idx, column_end_idx), _out_np[:, :columns_per_crossbar])\n",
    "\n",
    "def cim_conv_2d(crossbar_inputs, crossbar_weights, _COUT_, mode, Total_dim, transient,max_workers=None):\n",
    "    _N_, _HOUT_, _WOUT_, crossbar_y, Num_rows = crossbar_inputs.shape\n",
    "    _, crossbar_x, _, Num_Columns = crossbar_weights.shape\n",
    "    output_conv_2d = torch.zeros(_N_, _COUT_, _HOUT_, _WOUT_)\n",
    "\n",
    "    columns_per_crossbar = math.floor(_COUT_ / crossbar_x)\n",
    "\n",
    "    # Preconvert weights to NumPy once (this is reused for each (ii, jj))\n",
    "    # weights_np = [[crossbar_weights[cy, cx].numpy() for cx in range(crossbar_x)] for cy in range(crossbar_y)]\n",
    "\n",
    "    tasks = []\n",
    "    with ProcessPoolExecutor(max_workers=max_workers) as executor:\n",
    "        for ii in range(_HOUT_):\n",
    "            for jj in range(_WOUT_):\n",
    "\n",
    "                for cy in range(crossbar_y):\n",
    "                    for cx in range(crossbar_x):\n",
    "                        tmp_x = crossbar_inputs[:, ii, jj, cy, :].numpy()\n",
    "                        tmp_w = crossbar_weights[cy][cx]\n",
    "                        # tmp_w = weights_np[cy][cx]\n",
    "                        tasks.append((ii,jj, cx, tmp_x, tmp_w, Num_rows, Num_Columns, columns_per_crossbar, Total_dim, mode, transient))\n",
    "\n",
    "        futures = [executor.submit(run_tile, *t) for t in tasks]\n",
    "        for f in tqdm(as_completed(futures),total=len(tasks),disable=True):\n",
    "            (ii,jj, col_start, col_end), out_np = f.result()\n",
    "            out = torch.from_numpy(out_np)\n",
    "            output_conv_2d[:, col_start:col_end, ii, jj] += out\n",
    "\n",
    "    return output_conv_2d"
   ]
  },
  {
   "cell_type": "code",
   "execution_count": 72,
   "id": "ccca361f",
   "metadata": {},
   "outputs": [],
   "source": [
    "def _conv2d_tile_(x,w,Num_rows,Num_Columns,mode,max_workers,transient=False):\n",
    "    _N_,_HOUT_, _WOUT_,_CIN_, _kernel_size_ = x.shape\n",
    "    _COUT_, _CIN_, _kernel_size_ = w.shape\n",
    "    output_conv_2d = torch.zeros(_N_,_COUT_,_HOUT_,_WOUT_)\n",
    "\n",
    "    whole_input_size = _CIN_*_kernel_size_\n",
    "    print(f\"total inputs: {whole_input_size}\")\n",
    "    crossbar_y = math.ceil((_CIN_*_kernel_size_)/Num_rows)\n",
    "    crossbar_x = math.ceil(_COUT_/Num_Columns)\n",
    "\n",
    "    crossbar_weights = torch.zeros((crossbar_y,crossbar_x,Num_rows,Num_Columns))\n",
    "    crossbar_inputs = torch.zeros((_N_,_HOUT_,_WOUT_,crossbar_y,Num_rows))\n",
    "\n",
    "    rows_per_crossbar = math.floor(whole_input_size/crossbar_y)\n",
    "\n",
    "    flatten_x = x.reshape(*x.shape[:-2],-1)\n",
    "    print(flatten_x.shape)\n",
    "    flatten_w = w.reshape(*w.shape[:-2],-1).T\n",
    "    print(flatten_w.shape)\n",
    "    print(crossbar_inputs.shape)\n",
    "    print(f\"weights shape: {crossbar_weights.shape}\")\n",
    "    print(f\"inputs shape: {crossbar_inputs.shape}\")\n",
    "\n",
    "    columns_per_crossbar = math.floor(_COUT_/crossbar_x)\n",
    "\n",
    "    for ii in range(crossbar_y):\n",
    "        row_start_idx = ii*rows_per_crossbar\n",
    "        # if ii==crossbar_y-1:\n",
    "        #     row_end_idx = flatten_x.shape[-1]\n",
    "        # else:\n",
    "        row_end_idx = (ii+1)*rows_per_crossbar\n",
    "        # print(start_idx,end_idx)\n",
    "        crossbar_inputs[:,:,:,ii,:rows_per_crossbar] = flatten_x[:,:,:,row_start_idx:row_end_idx]\n",
    "    # for ii in range(0,whole_input_size,step=inpu)\n",
    "\n",
    "        for jj in range(crossbar_x):\n",
    "            column_start_idx = jj*columns_per_crossbar\n",
    "            # if jj==crossbar_x-1:\n",
    "            #     column_end_idx=flatten_w.shape[-1]\n",
    "            # else:\n",
    "            column_end_idx = (jj+1)*columns_per_crossbar\n",
    "            \n",
    "            crossbar_weights[ii,jj,:rows_per_crossbar,:columns_per_crossbar] = flatten_w[row_start_idx:row_end_idx,column_start_idx:column_end_idx]\n",
    "\n",
    "\n",
    "    # for n in range(_N_):\n",
    "    output_conv_2d = cim_conv_2d(crossbar_inputs,crossbar_weights,_COUT_,mode,flatten_w.shape[-1],transient=transient,max_workers=max_workers)\n",
    "    # output_conv_2d = torch_conv_2d(crossbar_inputs,crossbar_weights,_COUT_,flatten_w.shape[-1])\n",
    "    return output_conv_2d\n"
   ]
  },
  {
   "cell_type": "code",
   "execution_count": 73,
   "id": "73e5690f",
   "metadata": {},
   "outputs": [],
   "source": [
    "def conv2d_tile(x,w,Num_rows,Num_Columns,mode,max_workers,transient=False):\n",
    "    _N_, _CIN_, _Hi_, _Wi_ = x.shape\n",
    "    _COUT_, _CIN_, _Kh_, _Kw_ = w.shape\n",
    "    mapped_x, mapped_w = map_conv2d(x,w)\n",
    "    output_conv_2d = _conv2d_tile_(mapped_x,mapped_w,Num_rows,Num_Columns,mode,max_workers,transient)\n",
    "    output_conv_2d = get_conv2d_output(output_conv_2d,_Kh_,_Kw_,_CIN_)\n",
    "    \n",
    "    return output_conv_2d\n"
   ]
  },
  {
   "cell_type": "code",
   "execution_count": 75,
   "id": "9fe2b0e1",
   "metadata": {},
   "outputs": [],
   "source": [
    "def con2d(x,w,Num_rows,Num_Columns,mode,max_workers,transient=False):\n",
    "    padding = 0\n",
    "    _N_, _CIN_, _Hi_, _Wi_ = x.shape\n",
    "    _COUT_, _CIN_, _Kh_, _Kw_ = w.shape\n",
    "    _HOUT_ = _Hi_ + 2*padding - _Kh_ + 1\n",
    "    _WOUT_ = _Wi_ + 2*padding - _Kw_ + 1\n",
    "    output_conv_2d = torch.zeros(_N_,_COUT_,_HOUT_,_WOUT_)\n",
    "    for idx in range(_N_):\n",
    "        tmp_x = x[idx].unsqueeze(0)\n",
    "        output_conv_2d[idx,:,:,:] = conv2d_tile(tmp_x,w,Num_rows,Num_Columns,mode,max_workers,transient=False)\n",
    "    return output_conv_2d\n"
   ]
  },
  {
   "cell_type": "code",
   "execution_count": null,
   "id": "6341d5cf",
   "metadata": {},
   "outputs": [
    {
     "name": "stdout",
     "output_type": "stream",
     "text": [
      "total inputs: 300\n",
      "torch.Size([1, 8, 8, 300])\n",
      "torch.Size([300, 16])\n",
      "torch.Size([1, 8, 8, 10, 32])\n",
      "weights shape: torch.Size([10, 1, 32, 32])\n",
      "inputs shape: torch.Size([1, 8, 8, 10, 32])\n"
     ]
    },
    {
     "data": {
      "text/plain": [
       "True"
      ]
     },
     "execution_count": 76,
     "metadata": {},
     "output_type": "execute_result"
    }
   ],
   "source": [
    "output_conv_2d = con2d(inputs,filters,Num_rows,Num_Columns,mode=\"ideal\",max_workers=20,transient=False)\n",
    "torch.equal(output_conv_2d,ref)"
   ]
  },
  {
   "cell_type": "code",
   "execution_count": null,
   "id": "0679ce85",
   "metadata": {},
   "outputs": [],
   "source": [
    "output_conv_2d = con2d(inputs,filters,Num_rows,Num_Columns,mode=\"cs\",max_workers=20,transient=False)\n",
    "torch.equal(output_conv_2d,ref)"
   ]
  },
  {
   "cell_type": "code",
   "execution_count": null,
   "id": "47904f3e",
   "metadata": {},
   "outputs": [],
   "source": [
    "output_conv_2d = con2d(inputs,filters,Num_rows,Num_Columns,mode=\"gs\",max_workers=20,transient=False)\n",
    "torch.equal(output_conv_2d,ref)\n",
    "ref-output_conv_2d"
   ]
  },
  {
   "cell_type": "code",
   "execution_count": null,
   "id": "27a9f7b7",
   "metadata": {},
   "outputs": [
    {
     "data": {
      "text/plain": [
       "torch.Size([120, 256])"
      ]
     },
     "execution_count": 97,
     "metadata": {},
     "output_type": "execute_result"
    }
   ],
   "source": [
    "fc_weight = model.fc1.weight.data.detach()\n",
    "fc_weight_b = binarized(fc_weight)\n",
    "fc_weight_b.shape\n"
   ]
  },
  {
   "cell_type": "code",
   "execution_count": 114,
   "id": "8a974fcf",
   "metadata": {},
   "outputs": [
    {
     "data": {
      "text/plain": [
       "torch.Size([1, 256])"
      ]
     },
     "execution_count": 114,
     "metadata": {},
     "output_type": "execute_result"
    }
   ],
   "source": [
    "fc_input = model.pool2(model.htanh2(model.bn2(model.conv2(x))))\n",
    "fc_input_b = binarized(fc_input)\n",
    "fc_input_b = fc_input_b.view(fc_input_b.size(0),-1)\n",
    "fc_input_b = fc_input_b.detach()\n",
    "fc_input_b.shape"
   ]
  },
  {
   "cell_type": "code",
   "execution_count": 115,
   "id": "720637a5",
   "metadata": {},
   "outputs": [],
   "source": [
    "def map_fc(x,w):\n",
    "    print(x.shape)\n",
    "    print(w.shape)\n",
    "    M, N = w.shape\n",
    "    _N_, M = x.shape\n",
    "    pos_w, neg_w = compliment(w) \n",
    "    pos_x, neg_x = compliment(x)\n",
    "\n",
    "    mapped_w = torch.empty((2*M,N))\n",
    "    mapped_x = torch.empty((_N_,2*M))\n",
    "\n",
    "    for idx in range(M):\n",
    "        _pos_w_ = pos_w[idx]\n",
    "        _neg_w_ = neg_w[idx]\n",
    "        mapped_w[2*idx]=_pos_w_\n",
    "        mapped_w[2*idx+1]=_neg_w_\n",
    "\n",
    "        _pos_x_ = pos_x[:,idx]\n",
    "        _neg_x_ = neg_x[:,idx]\n",
    "\n",
    "        mapped_x[:,2*idx] = _pos_x_\n",
    "        mapped_x[:,2*idx+1] = _neg_x_\n",
    "\n",
    "    return mapped_x,mapped_w"
   ]
  },
  {
   "cell_type": "code",
   "execution_count": 95,
   "id": "61ac176b",
   "metadata": {},
   "outputs": [],
   "source": [
    "def get_fc_output(I, M):\n",
    "    out = 2*I - M\n",
    "    return out"
   ]
  },
  {
   "cell_type": "code",
   "execution_count": 117,
   "id": "afe31b71",
   "metadata": {},
   "outputs": [
    {
     "data": {
      "text/plain": [
       "torch.Size([120, 256])"
      ]
     },
     "execution_count": 117,
     "metadata": {},
     "output_type": "execute_result"
    }
   ],
   "source": [
    "fc_weight_b.shape"
   ]
  },
  {
   "cell_type": "code",
   "execution_count": 103,
   "id": "082dbf79",
   "metadata": {},
   "outputs": [
    {
     "data": {
      "text/plain": [
       "torch.Size([1, 256])"
      ]
     },
     "execution_count": 103,
     "metadata": {},
     "output_type": "execute_result"
    }
   ],
   "source": [
    "fc_input_b.shape"
   ]
  },
  {
   "cell_type": "code",
   "execution_count": 126,
   "id": "3c6bf0fe",
   "metadata": {},
   "outputs": [
    {
     "name": "stdout",
     "output_type": "stream",
     "text": [
      "torch.Size([1, 256])\n",
      "torch.Size([256, 120])\n",
      "torch.Size([1, 120])\n"
     ]
    },
    {
     "data": {
      "text/plain": [
       "True"
      ]
     },
     "execution_count": 126,
     "metadata": {},
     "output_type": "execute_result"
    }
   ],
   "source": [
    "new_fc_inputs, new_fc_weights = map_fc(fc_input_b,fc_weight_b.T)\n",
    "fc_py = F.linear(new_fc_inputs,new_fc_weights.T)\n",
    "fc_py = get_fc_output(fc_py,fc_input_b.shape[-1])\n",
    "print(fc_py.shape)\n",
    "ref_fc = F.linear(fc_input_b,fc_weight_b)\n",
    "\n",
    "torch.equal(ref_fc,fc_py)"
   ]
  },
  {
   "cell_type": "code",
   "execution_count": 109,
   "id": "cb4b9b73",
   "metadata": {},
   "outputs": [],
   "source": [
    "def  fc_linear(crossbar_inputs,crossbar_weights,N,mode,max_workers,transient):\n",
    "    crossbar_y,crossbar_x,Num_rows,Num_Columns = crossbar_weights.shape\n",
    "    _N_, crossbar_y, Num_rows = crossbar_inputs.shape\n",
    "    output = torch.zeros(_N_,N)\n",
    "    columns_per_crossbar = math.floor(N/crossbar_x)\n",
    "    \n",
    "    tasks = []\n",
    "\n",
    "    with ProcessPoolExecutor(max_workers=max_workers) as executor:\n",
    "        for ii in range(crossbar_y):\n",
    "            for jj in range(crossbar_x):\n",
    "                column_start_idx = jj*columns_per_crossbar\n",
    "                column_end_idx = (jj+1)*columns_per_crossbar\n",
    "                tmp_x = crossbar_inputs[:,ii]\n",
    "                tmp_w = crossbar_weights[ii][jj]\n",
    "                tmp_w=checkerboard_last_cols(tmp_w,Num_Columns-columns_per_crossbar)\n",
    "                # out_matmul = torch.matmul(tmp_x,tmp_w)\n",
    "                args = (((ii,jj),tmp_x),tmp_w,Num_rows,Num_Columns,mode,transient)\n",
    "                tasks.append(args)\n",
    "        futures = [executor.submit(_task, *t) for t in tasks]\n",
    "        for f in tqdm(as_completed(futures),total=len(tasks)):\n",
    "            (ii,jj), out_matmul = f.result()\n",
    "            column_start_idx = jj*columns_per_crossbar\n",
    "            column_end_idx = (jj+1)*columns_per_crossbar\n",
    "            out_matmul = torch.from_numpy(out_matmul)\n",
    "            output[:,column_start_idx:column_end_idx] += out_matmul[:,:columns_per_crossbar]\n",
    "\n",
    "    return output"
   ]
  },
  {
   "cell_type": "code",
   "execution_count": 110,
   "id": "0c4d0ee1",
   "metadata": {},
   "outputs": [],
   "source": [
    "def _fc_tile_(x,w, Num_rows,Num_Columns,mode,max_workers,transient):\n",
    "    _N_ , M = x.shape\n",
    "    M , N = w.shape\n",
    "\n",
    "    crossbar_y = math.ceil(M/Num_rows)\n",
    "    crossbar_x = math.ceil(N/Num_Columns)\n",
    "    # print(\"crossbar grid\",crossbar_y,crossbar_x)\n",
    "\n",
    "    crossbar_inputs = torch.zeros((_N_,crossbar_y,Num_rows))\n",
    "    crossbar_weights = torch.zeros((crossbar_y,crossbar_x,Num_rows,Num_Columns))\n",
    "\n",
    "    rows_per_crossbar = math.floor(M/crossbar_y)\n",
    "    columns_per_crossbar = math.floor(N/crossbar_x)\n",
    "\n",
    "    # print(rows_per_crossbar, columns_per_crossbar)\n",
    "\n",
    "    for ii in range(crossbar_y):\n",
    "        row_start_idx = ii*rows_per_crossbar\n",
    "        # if ii==crossbar_y-1:\n",
    "        #     row_end_idx = M\n",
    "        # else:\n",
    "        row_end_idx = (ii+1)*rows_per_crossbar\n",
    "        crossbar_inputs[:,ii,:rows_per_crossbar] = x[:,row_start_idx:row_end_idx]\n",
    "    # for ii in range(0,whole_input_size,step=inpu)\n",
    "        # print(row_start_idx,row_end_idx)\n",
    "\n",
    "        for jj in range(crossbar_x):\n",
    "            column_start_idx = jj*columns_per_crossbar\n",
    "            # if jj==crossbar_x-1:\n",
    "            #     column_end_idx=N\n",
    "            # else:\n",
    "            column_end_idx = (jj+1)*columns_per_crossbar\n",
    "            # print(column_start_idx,column_end_idx)\n",
    "            \n",
    "            crossbar_weights[ii,jj,:rows_per_crossbar,:columns_per_crossbar] = w[row_start_idx:row_end_idx,column_start_idx:column_end_idx]\n",
    "        \n",
    "    # print(f\"crossbar weigths : {crossbar_weights.shape}\")\n",
    "    # print(f\"crossbar inputs : {crossbar_inputs.shape}\")\n",
    "    return fc_linear(crossbar_inputs,crossbar_weights,N,mode,max_workers,transient)"
   ]
  },
  {
   "cell_type": "code",
   "execution_count": 111,
   "id": "19616177",
   "metadata": {},
   "outputs": [],
   "source": [
    "def fc_tile(x,w, Num_rows,Num_Columns,mode,max_workers,transient):\n",
    "    # w = w.T\n",
    "    M , N = w.shape\n",
    "    _N_ , M = x.shape\n",
    "    mapped_x, mapped_w = map_fc(x,w)\n",
    "    output_fc = _fc_tile_(mapped_x,mapped_w,Num_rows,Num_Columns,mode,max_workers,transient)\n",
    "    output_fc = get_fc_output(output_fc,M)\n",
    "    return output_fc\n",
    "\n",
    "def fc(x,w, Num_rows,Num_Columns,mode,max_workers,transient):\n",
    "    # w = w.T\n",
    "    print(w.shape)\n",
    "    M , N = w.shape\n",
    "    _N_ , M = x.shape\n",
    "    output_fc = torch.empty((_N_,N))\n",
    "\n",
    "    for idx in range(_N_):\n",
    "        tmp_x = x[idx].unsqueeze(0)\n",
    "        output_fc[idx,:] = fc_tile(tmp_x,w, Num_rows,Num_Columns,mode,max_workers,transient)\n",
    "    return output_fc"
   ]
  },
  {
   "cell_type": "code",
   "execution_count": 121,
   "id": "eb4c9fc7",
   "metadata": {},
   "outputs": [
    {
     "name": "stdout",
     "output_type": "stream",
     "text": [
      "torch.Size([256, 120])\n",
      "torch.Size([1, 256])\n",
      "torch.Size([256, 120])\n"
     ]
    },
    {
     "name": "stderr",
     "output_type": "stream",
     "text": [
      "100%|██████████| 64/64 [00:00<00:00, 119.43it/s]\n"
     ]
    },
    {
     "data": {
      "text/plain": [
       "True"
      ]
     },
     "execution_count": 121,
     "metadata": {},
     "output_type": "execute_result"
    }
   ],
   "source": [
    "output_fc = fc(fc_input_b,fc_weight_b.T,Num_rows,Num_Columns,\"ideal\",max_workers=8,transient=False)\n",
    "torch.equal(output_fc,ref_fc)"
   ]
  },
  {
   "cell_type": "code",
   "execution_count": 123,
   "id": "1a1b9be4",
   "metadata": {},
   "outputs": [
    {
     "name": "stdout",
     "output_type": "stream",
     "text": [
      "torch.Size([256, 120])\n",
      "torch.Size([1, 256])\n",
      "torch.Size([256, 120])\n"
     ]
    },
    {
     "name": "stderr",
     "output_type": "stream",
     "text": [
      "100%|██████████| 64/64 [00:00<00:00, 96.27it/s] \n"
     ]
    },
    {
     "name": "stdout",
     "output_type": "stream",
     "text": [
      "False\n"
     ]
    },
    {
     "data": {
      "text/plain": [
       "tensor([[0., 0., 0., 0., 0., 0., 0., 0., 0., 0., 0., 0., 0., 0., 0., 0., 0., 0.,\n",
       "         2., 0., 2., 2., 0., 0., 0., 0., 0., 0., 0., 0., 0., 0., 0., 0., 0., 0.,\n",
       "         0., 0., 0., 0., 0., 0., 0., 0., 0., 0., 2., 0., 0., 0., 0., 0., 0., 0.,\n",
       "         0., 0., 0., 0., 0., 0., 0., 0., 0., 0., 0., 0., 0., 0., 0., 0., 0., 0.,\n",
       "         2., 0., 0., 0., 0., 0., 0., 0., 0., 0., 0., 0., 0., 2., 0., 0., 0., 0.,\n",
       "         0., 0., 0., 0., 0., 0., 0., 0., 0., 0., 0., 0., 0., 0., 0., 0., 0., 0.,\n",
       "         0., 0., 0., 0., 0., 0., 0., 0., 0., 0., 0., 0.]])"
      ]
     },
     "execution_count": 123,
     "metadata": {},
     "output_type": "execute_result"
    }
   ],
   "source": [
    "output_fc = fc(fc_input_b,fc_weight_b.T,Num_rows,Num_Columns,\"cs\",max_workers=8,transient=False)\n",
    "print(torch.equal(output_fc,ref_fc))\n",
    "output_fc-ref_fc"
   ]
  },
  {
   "cell_type": "code",
   "execution_count": 124,
   "id": "d66b2c4e",
   "metadata": {},
   "outputs": [
    {
     "name": "stdout",
     "output_type": "stream",
     "text": [
      "torch.Size([256, 120])\n",
      "torch.Size([1, 256])\n",
      "torch.Size([256, 120])\n"
     ]
    },
    {
     "name": "stderr",
     "output_type": "stream",
     "text": [
      "100%|██████████| 64/64 [00:00<00:00, 94.12it/s] \n"
     ]
    },
    {
     "name": "stdout",
     "output_type": "stream",
     "text": [
      "False\n"
     ]
    },
    {
     "data": {
      "text/plain": [
       "tensor([[30., 32., 28., 30., 28., 22., 18., 14.,  4.,  4.,  0.,  0.,  0.,  0.,\n",
       "          0.,  0.,  0.,  0.,  0.,  0., -2., -2., -2., -2., -6., -8., -4., -2.,\n",
       "          0., -2., 32., 32., 32., 30., 28., 24., 12., 10.,  6.,  0.,  0.,  0.,\n",
       "          0.,  0.,  0.,  0.,  0.,  0.,  0.,  0.,  0., -2., -2., -8., -2., -2.,\n",
       "          0.,  0.,  0., -8., 32., 32., 30., 32., 22., 22., 24.,  6.,  0.,  0.,\n",
       "          0.,  0.,  0.,  0.,  0.,  0.,  0.,  0.,  0.,  0.,  0.,  0.,  0., -2.,\n",
       "          0., -6.,  0., -2.,  0.,  0., 32., 32., 32., 32., 26., 18., 18., 12.,\n",
       "          0.,  2.,  0.,  0.,  0.,  0.,  0.,  0.,  0.,  0.,  0.,  0., -8.,  0.,\n",
       "         -2.,  0.,  0., -4., -6., -4., -4., -2.]])"
      ]
     },
     "execution_count": 124,
     "metadata": {},
     "output_type": "execute_result"
    }
   ],
   "source": [
    "output_fc = fc(fc_input_b,fc_weight_b.T,Num_rows,Num_Columns,\"gs\",max_workers=8,transient=False)\n",
    "print(torch.equal(output_fc,ref_fc))\n",
    "output_fc-ref_fc"
   ]
  }
 ],
 "metadata": {
  "kernelspec": {
   "display_name": "env",
   "language": "python",
   "name": "python3"
  },
  "language_info": {
   "codemirror_mode": {
    "name": "ipython",
    "version": 3
   },
   "file_extension": ".py",
   "mimetype": "text/x-python",
   "name": "python",
   "nbconvert_exporter": "python",
   "pygments_lexer": "ipython3",
   "version": "3.9.21"
  }
 },
 "nbformat": 4,
 "nbformat_minor": 5
}
