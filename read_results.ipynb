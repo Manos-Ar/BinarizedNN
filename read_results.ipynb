{
 "cells": [
  {
   "cell_type": "code",
   "execution_count": 14,
   "id": "8cbc4365",
   "metadata": {},
   "outputs": [],
   "source": [
    "import os\n",
    "import torch\n",
    "from collections import defaultdict\n"
   ]
  },
  {
   "cell_type": "code",
   "execution_count": 15,
   "id": "77e58664",
   "metadata": {},
   "outputs": [],
   "source": [
    "read_path = os.path.abspath(\"/shares/bulk/earapidis/dev/BinarizedNN/results/lenet_5/mapping\")\n",
    "read_path = os.path.abspath(\"/shares/bulk/earapidis/dev/BinarizedNN/results/mlp/mapping\")\n",
    "indices_path = os.path.join(read_path,\"random_indices.pt\")\n"
   ]
  },
  {
   "cell_type": "code",
   "execution_count": 16,
   "id": "19a333c5",
   "metadata": {},
   "outputs": [],
   "source": [
    "    \n",
    "original_prediction_path = os.path.join(read_path,\"original_prediction.pt\")\n",
    "original_prediction = torch.load(original_prediction_path)"
   ]
  },
  {
   "cell_type": "code",
   "execution_count": 17,
   "id": "3da8ced5",
   "metadata": {},
   "outputs": [],
   "source": [
    "modes = [\"cs\"]\n",
    "# modes = [\"cs\",\"gs\"]\n",
    "predictions = defaultdict(lambda: defaultdict())\n",
    "for mode in modes:\n",
    "    prediction_path = os.path.join(read_path,f\"{mode}_prediction.pt\")\n",
    "    prediction = torch.load(prediction_path)\n",
    "    predictions[mode] = prediction\n",
    "\n"
   ]
  },
  {
   "cell_type": "code",
   "execution_count": 18,
   "id": "bac9ae01",
   "metadata": {},
   "outputs": [
    {
     "name": "stdout",
     "output_type": "stream",
     "text": [
      "Predictions:\n",
      "\tMode: cs\n",
      "\tAccuracy: 97.70%\n",
      "\n"
     ]
    }
   ],
   "source": [
    "    \n",
    "print(\"Predictions:\")\n",
    "for mode, prediction in predictions.items():\n",
    "        print(f\"\\tMode: {mode}\")\n",
    "        # print(f\"Predictions:   {prediction}\")\n",
    "        # print(f\"Original:      {original_prediction}\")\n",
    "        num_correct = (prediction == original_prediction ).sum().item()\n",
    "        # print(num_correct)\n",
    "        total = torch.numel(original_prediction)\n",
    "        acc = (num_correct /total)  * 100.0\n",
    "        print(f\"\\tAccuracy: {acc:.2f}%\")\n",
    "        print()"
   ]
  }
 ],
 "metadata": {
  "kernelspec": {
   "display_name": "env",
   "language": "python",
   "name": "python3"
  },
  "language_info": {
   "codemirror_mode": {
    "name": "ipython",
    "version": 3
   },
   "file_extension": ".py",
   "mimetype": "text/x-python",
   "name": "python",
   "nbconvert_exporter": "python",
   "pygments_lexer": "ipython3",
   "version": "3.9.21"
  }
 },
 "nbformat": 4,
 "nbformat_minor": 5
}
